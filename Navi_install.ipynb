{
  "nbformat": 4,
  "nbformat_minor": 0,
  "metadata": {
    "colab": {
      "name": "Untitled9.ipynb",
      "provenance": [],
      "collapsed_sections": [],
      "authorship_tag": "ABX9TyM6xPOGxTLavEzSBKvI4fZh",
      "include_colab_link": true
    },
    "kernelspec": {
      "name": "python3",
      "display_name": "Python 3"
    },
    "language_info": {
      "name": "python"
    }
  },
  "cells": [
    {
      "cell_type": "markdown",
      "metadata": {
        "id": "view-in-github",
        "colab_type": "text"
      },
      "source": [
        "<a href=\"https://colab.research.google.com/github/prasath9944/machine-learning-projects/blob/main/Navi_install.ipynb\" target=\"_parent\"><img src=\"https://colab.research.google.com/assets/colab-badge.svg\" alt=\"Open In Colab\"/></a>"
      ]
    },
    {
      "cell_type": "markdown",
      "metadata": {
        "id": "pSUz3IJF3NJT"
      },
      "source": [
        "IMPORTING THE NECESSARY LIBRARIES FOR THE DATA CLEANING AND DATA VISVALIZATION"
      ]
    },
    {
      "cell_type": "code",
      "metadata": {
        "id": "mwV1uQdSMrcB"
      },
      "source": [
        "import numpy as np\n",
        "import pandas as pd\n",
        "import matplotlib.pyplot as plt\n",
        "import seaborn as sns\n",
        "sns.set(rc={'figure.figsize':(15,10)})"
      ],
      "execution_count": 305,
      "outputs": []
    },
    {
      "cell_type": "markdown",
      "metadata": {
        "id": "noGy2HIw3fJS"
      },
      "source": [
        "IMPORTING THE NAVI-INSTALL DATASET"
      ]
    },
    {
      "cell_type": "code",
      "metadata": {
        "id": "YY4ypNQdNBfC"
      },
      "source": [
        "Navi_install=pd.read_csv(\"/content/Navi - install.csv\")"
      ],
      "execution_count": 306,
      "outputs": []
    },
    {
      "cell_type": "code",
      "metadata": {
        "colab": {
          "base_uri": "https://localhost:8080/"
        },
        "id": "3HlwkKwYO1M4",
        "outputId": "58813012-09fb-4e36-89b7-283f94c89e26"
      },
      "source": [
        "Navi_install.info"
      ],
      "execution_count": 307,
      "outputs": [
        {
          "output_type": "execute_result",
          "data": {
            "text/plain": [
              "<bound method DataFrame.info of       Attributed Touch Type  ... Postback Retry\n",
              "0                     click  ...            NaN\n",
              "1                     click  ...            NaN\n",
              "2                     click  ...            NaN\n",
              "3                     click  ...            NaN\n",
              "4                     click  ...            NaN\n",
              "...                     ...  ...            ...\n",
              "32288                 click  ...            NaN\n",
              "32289                 click  ...            NaN\n",
              "32290                 click  ...            NaN\n",
              "32291                 click  ...            NaN\n",
              "32292                 click  ...            NaN\n",
              "\n",
              "[32293 rows x 76 columns]>"
            ]
          },
          "metadata": {
            "tags": []
          },
          "execution_count": 307
        }
      ]
    },
    {
      "cell_type": "markdown",
      "metadata": {
        "id": "BoxygKCT4Nz_"
      },
      "source": [
        "EXECUTING FIRST FOUR ROWS IN THE DATASET"
      ]
    },
    {
      "cell_type": "code",
      "metadata": {
        "colab": {
          "base_uri": "https://localhost:8080/",
          "height": 580
        },
        "id": "Qi_8RRqSO7AG",
        "outputId": "0074093b-870a-4f54-847c-39eb5c133a32"
      },
      "source": [
        "Navi_install.head(4)"
      ],
      "execution_count": 308,
      "outputs": [
        {
          "output_type": "execute_result",
          "data": {
            "text/html": [
              "<div>\n",
              "<style scoped>\n",
              "    .dataframe tbody tr th:only-of-type {\n",
              "        vertical-align: middle;\n",
              "    }\n",
              "\n",
              "    .dataframe tbody tr th {\n",
              "        vertical-align: top;\n",
              "    }\n",
              "\n",
              "    .dataframe thead th {\n",
              "        text-align: right;\n",
              "    }\n",
              "</style>\n",
              "<table border=\"1\" class=\"dataframe\">\n",
              "  <thead>\n",
              "    <tr style=\"text-align: right;\">\n",
              "      <th></th>\n",
              "      <th>Attributed Touch Type</th>\n",
              "      <th>Attributed Touch Time</th>\n",
              "      <th>Install Time</th>\n",
              "      <th>Event Time</th>\n",
              "      <th>Event Name</th>\n",
              "      <th>Event Value</th>\n",
              "      <th>Event Revenue</th>\n",
              "      <th>Event Revenue Currency</th>\n",
              "      <th>Event Revenue USD</th>\n",
              "      <th>Cost Model</th>\n",
              "      <th>Cost Value</th>\n",
              "      <th>Cost Currency</th>\n",
              "      <th>Event Source</th>\n",
              "      <th>Partner</th>\n",
              "      <th>Media Source</th>\n",
              "      <th>Channel</th>\n",
              "      <th>Campaign</th>\n",
              "      <th>Campaign ID</th>\n",
              "      <th>Adset</th>\n",
              "      <th>Adset ID</th>\n",
              "      <th>Ad</th>\n",
              "      <th>Ad ID</th>\n",
              "      <th>Ad Type</th>\n",
              "      <th>Site ID</th>\n",
              "      <th>Sub Site ID</th>\n",
              "      <th>Region</th>\n",
              "      <th>Country Code</th>\n",
              "      <th>State</th>\n",
              "      <th>City</th>\n",
              "      <th>Postal Code</th>\n",
              "      <th>DMA</th>\n",
              "      <th>IP</th>\n",
              "      <th>Operator</th>\n",
              "      <th>Carrier</th>\n",
              "      <th>Language</th>\n",
              "      <th>AppsFlyer ID</th>\n",
              "      <th>Customer User ID</th>\n",
              "      <th>Android ID</th>\n",
              "      <th>Advertising ID</th>\n",
              "      <th>IMEI</th>\n",
              "      <th>IDFA</th>\n",
              "      <th>IDFV</th>\n",
              "      <th>Device Type</th>\n",
              "      <th>Device Category</th>\n",
              "      <th>Platform</th>\n",
              "      <th>OS Version</th>\n",
              "      <th>App Version</th>\n",
              "      <th>SDK Version</th>\n",
              "      <th>App ID</th>\n",
              "      <th>App Name</th>\n",
              "      <th>Is Retargeting</th>\n",
              "      <th>Retargeting Conversion Type</th>\n",
              "      <th>Is Primary Attribution</th>\n",
              "      <th>Attribution Lookback</th>\n",
              "      <th>Reengagement Window</th>\n",
              "      <th>Match Type</th>\n",
              "      <th>User Agent</th>\n",
              "      <th>HTTP Referrer</th>\n",
              "      <th>Original URL</th>\n",
              "      <th>Google Play Install Begin Time</th>\n",
              "      <th>Blocked Reason</th>\n",
              "      <th>Blocked Reason Value</th>\n",
              "      <th>Blocked Reason Rule</th>\n",
              "      <th>Blocked Sub Reason</th>\n",
              "      <th>Device Download Time</th>\n",
              "      <th>Device Model</th>\n",
              "      <th>Attributed Touch Hour</th>\n",
              "      <th>Install Hour</th>\n",
              "      <th>Event Hour</th>\n",
              "      <th>Rejected Reason</th>\n",
              "      <th>Unique Click ID</th>\n",
              "      <th>Postback Url</th>\n",
              "      <th>Postback Method</th>\n",
              "      <th>Postback Http Response Code</th>\n",
              "      <th>Postback Error Message</th>\n",
              "      <th>Postback Retry</th>\n",
              "    </tr>\n",
              "  </thead>\n",
              "  <tbody>\n",
              "    <tr>\n",
              "      <th>0</th>\n",
              "      <td>click</td>\n",
              "      <td>16/06/21 23:35</td>\n",
              "      <td>22/06/21 13:20</td>\n",
              "      <td>22/06/21 13:20</td>\n",
              "      <td>install</td>\n",
              "      <td>NaN</td>\n",
              "      <td>NaN</td>\n",
              "      <td>NaN</td>\n",
              "      <td>NaN</td>\n",
              "      <td>NaN</td>\n",
              "      <td>NaN</td>\n",
              "      <td>NaN</td>\n",
              "      <td>SDK</td>\n",
              "      <td>iperformancemed</td>\n",
              "      <td>NaN</td>\n",
              "      <td>NaN</td>\n",
              "      <td>{campaign}</td>\n",
              "      <td>{campaign_ID}</td>\n",
              "      <td>NaN</td>\n",
              "      <td>NaN</td>\n",
              "      <td>NaN</td>\n",
              "      <td>NaN</td>\n",
              "      <td>NaN</td>\n",
              "      <td>1a3c1e25</td>\n",
              "      <td>3137b1df_mvs1316_bf361dys</td>\n",
              "      <td>AS</td>\n",
              "      <td>IN</td>\n",
              "      <td>PB</td>\n",
              "      <td>Amloh</td>\n",
              "      <td>147203</td>\n",
              "      <td>None</td>\n",
              "      <td>157.39.215.95</td>\n",
              "      <td>Jio 4G</td>\n",
              "      <td>Jio 4G</td>\n",
              "      <td>English</td>\n",
              "      <td>1624368024917-3532564848813473621</td>\n",
              "      <td>NaN</td>\n",
              "      <td>NaN</td>\n",
              "      <td>781233f8-ba39-4fb1-859b-3ab533fea954</td>\n",
              "      <td>NaN</td>\n",
              "      <td>NaN</td>\n",
              "      <td>NaN</td>\n",
              "      <td>samsung-SM-M017F</td>\n",
              "      <td>phone</td>\n",
              "      <td>android</td>\n",
              "      <td>10</td>\n",
              "      <td>1.5.9</td>\n",
              "      <td>v5.3.0</td>\n",
              "      <td>com.naviapp</td>\n",
              "      <td>Navi - Instant Personal and Home Loans</td>\n",
              "      <td>False</td>\n",
              "      <td>NaN</td>\n",
              "      <td>NaN</td>\n",
              "      <td>7d</td>\n",
              "      <td>NaN</td>\n",
              "      <td>id_matching</td>\n",
              "      <td>NaN</td>\n",
              "      <td>NaN</td>\n",
              "      <td>NaN</td>\n",
              "      <td>NaN</td>\n",
              "      <td>NaN</td>\n",
              "      <td>NaN</td>\n",
              "      <td>NaN</td>\n",
              "      <td>NaN</td>\n",
              "      <td>17:48.0</td>\n",
              "      <td>samsung::SM-M017F</td>\n",
              "      <td>NaN</td>\n",
              "      <td>NaN</td>\n",
              "      <td>NaN</td>\n",
              "      <td>NaN</td>\n",
              "      <td>ca07c28ahe8e4xe1cfbb5478xf0046l6a8dd31a</td>\n",
              "      <td>http://www.hdm3.in/ti.php?hid=ca07c28ahe8e4xe1...</td>\n",
              "      <td>get</td>\n",
              "      <td>200.0</td>\n",
              "      <td>NaN</td>\n",
              "      <td>NaN</td>\n",
              "    </tr>\n",
              "    <tr>\n",
              "      <th>1</th>\n",
              "      <td>click</td>\n",
              "      <td>20/06/21 4:40</td>\n",
              "      <td>22/06/21 13:04</td>\n",
              "      <td>22/06/21 13:04</td>\n",
              "      <td>install</td>\n",
              "      <td>NaN</td>\n",
              "      <td>NaN</td>\n",
              "      <td>NaN</td>\n",
              "      <td>NaN</td>\n",
              "      <td>NaN</td>\n",
              "      <td>NaN</td>\n",
              "      <td>NaN</td>\n",
              "      <td>SDK</td>\n",
              "      <td>iperformancemed</td>\n",
              "      <td>NaN</td>\n",
              "      <td>NaN</td>\n",
              "      <td>campaign</td>\n",
              "      <td>campaign_ID</td>\n",
              "      <td>NaN</td>\n",
              "      <td>NaN</td>\n",
              "      <td>NaN</td>\n",
              "      <td>NaN</td>\n",
              "      <td>NaN</td>\n",
              "      <td>3a96e05b</td>\n",
              "      <td>fc7003bb_211_6_47067.6d8758e7b2b0ff61</td>\n",
              "      <td>AS</td>\n",
              "      <td>IN</td>\n",
              "      <td>MH</td>\n",
              "      <td>Kurla</td>\n",
              "      <td>400070</td>\n",
              "      <td>356002</td>\n",
              "      <td>49.33.201.41</td>\n",
              "      <td>Jio 4G</td>\n",
              "      <td>Jio 4G</td>\n",
              "      <td>English</td>\n",
              "      <td>1624367061151-4458370462010318034</td>\n",
              "      <td>NaN</td>\n",
              "      <td>NaN</td>\n",
              "      <td>9abb87fe-428b-4cb0-a09c-26f43557241c</td>\n",
              "      <td>NaN</td>\n",
              "      <td>NaN</td>\n",
              "      <td>NaN</td>\n",
              "      <td>vivo-vivo 1820</td>\n",
              "      <td>phone</td>\n",
              "      <td>android</td>\n",
              "      <td>8.1.0</td>\n",
              "      <td>1.7.1</td>\n",
              "      <td>v5.3.0</td>\n",
              "      <td>com.naviapp</td>\n",
              "      <td>Navi - Instant Personal and Home Loans</td>\n",
              "      <td>False</td>\n",
              "      <td>NaN</td>\n",
              "      <td>NaN</td>\n",
              "      <td>7d</td>\n",
              "      <td>NaN</td>\n",
              "      <td>id_matching</td>\n",
              "      <td>NaN</td>\n",
              "      <td>NaN</td>\n",
              "      <td>NaN</td>\n",
              "      <td>22/06/21 13:01</td>\n",
              "      <td>NaN</td>\n",
              "      <td>NaN</td>\n",
              "      <td>NaN</td>\n",
              "      <td>NaN</td>\n",
              "      <td>02:15.0</td>\n",
              "      <td>vivo::vivo 1820</td>\n",
              "      <td>NaN</td>\n",
              "      <td>NaN</td>\n",
              "      <td>NaN</td>\n",
              "      <td>NaN</td>\n",
              "      <td>c8588ba5se860xe1cfbbf2aexf0046m4d502343</td>\n",
              "      <td>http://www.hdm3.in/ti.php?hid=c8588ba5se860xe1...</td>\n",
              "      <td>get</td>\n",
              "      <td>503.0</td>\n",
              "      <td>NaN</td>\n",
              "      <td>NaN</td>\n",
              "    </tr>\n",
              "    <tr>\n",
              "      <th>2</th>\n",
              "      <td>click</td>\n",
              "      <td>21/06/21 3:13</td>\n",
              "      <td>22/06/21 13:00</td>\n",
              "      <td>22/06/21 13:00</td>\n",
              "      <td>install</td>\n",
              "      <td>NaN</td>\n",
              "      <td>NaN</td>\n",
              "      <td>NaN</td>\n",
              "      <td>NaN</td>\n",
              "      <td>NaN</td>\n",
              "      <td>NaN</td>\n",
              "      <td>NaN</td>\n",
              "      <td>SDK</td>\n",
              "      <td>iperformancemed</td>\n",
              "      <td>NaN</td>\n",
              "      <td>NaN</td>\n",
              "      <td>{campaign}</td>\n",
              "      <td>{campaign_ID}</td>\n",
              "      <td>NaN</td>\n",
              "      <td>NaN</td>\n",
              "      <td>NaN</td>\n",
              "      <td>NaN</td>\n",
              "      <td>NaN</td>\n",
              "      <td>3a96e05b</td>\n",
              "      <td>fc7003bb_211_14_88_619013189_3f559228370c</td>\n",
              "      <td>AS</td>\n",
              "      <td>IN</td>\n",
              "      <td>TN</td>\n",
              "      <td>Coimbatore</td>\n",
              "      <td>641603</td>\n",
              "      <td>356007</td>\n",
              "      <td>106.222.121.78</td>\n",
              "      <td>airtel</td>\n",
              "      <td>airtel</td>\n",
              "      <td>English</td>\n",
              "      <td>1624366844848-4514474707802402331</td>\n",
              "      <td>NaN</td>\n",
              "      <td>NaN</td>\n",
              "      <td>22621a66-8603-4a35-a391-0c090854816e</td>\n",
              "      <td>NaN</td>\n",
              "      <td>NaN</td>\n",
              "      <td>NaN</td>\n",
              "      <td>OPPO-CPH2095</td>\n",
              "      <td>phone</td>\n",
              "      <td>android</td>\n",
              "      <td>10</td>\n",
              "      <td>1.6.0</td>\n",
              "      <td>v5.3.0</td>\n",
              "      <td>com.naviapp</td>\n",
              "      <td>Navi - Instant Personal and Home Loans</td>\n",
              "      <td>False</td>\n",
              "      <td>NaN</td>\n",
              "      <td>NaN</td>\n",
              "      <td>7d</td>\n",
              "      <td>NaN</td>\n",
              "      <td>id_matching</td>\n",
              "      <td>NaN</td>\n",
              "      <td>NaN</td>\n",
              "      <td>NaN</td>\n",
              "      <td>29/11/20 8:36</td>\n",
              "      <td>NaN</td>\n",
              "      <td>NaN</td>\n",
              "      <td>NaN</td>\n",
              "      <td>NaN</td>\n",
              "      <td>38:04.0</td>\n",
              "      <td>OPPO::CPH2095</td>\n",
              "      <td>NaN</td>\n",
              "      <td>NaN</td>\n",
              "      <td>NaN</td>\n",
              "      <td>NaN</td>\n",
              "      <td>1fdc2c90je860me1cfb7c909of0046me2248c8b</td>\n",
              "      <td>http://www.hdm3.in/ti.php?hid=1fdc2c90je860me1...</td>\n",
              "      <td>get</td>\n",
              "      <td>200.0</td>\n",
              "      <td>NaN</td>\n",
              "      <td>NaN</td>\n",
              "    </tr>\n",
              "    <tr>\n",
              "      <th>3</th>\n",
              "      <td>click</td>\n",
              "      <td>21/06/21 1:36</td>\n",
              "      <td>22/06/21 12:53</td>\n",
              "      <td>22/06/21 12:53</td>\n",
              "      <td>install</td>\n",
              "      <td>NaN</td>\n",
              "      <td>NaN</td>\n",
              "      <td>NaN</td>\n",
              "      <td>NaN</td>\n",
              "      <td>NaN</td>\n",
              "      <td>NaN</td>\n",
              "      <td>NaN</td>\n",
              "      <td>SDK</td>\n",
              "      <td>iperformancemed</td>\n",
              "      <td>NaN</td>\n",
              "      <td>NaN</td>\n",
              "      <td>{campaign}</td>\n",
              "      <td>{campaign_ID}</td>\n",
              "      <td>NaN</td>\n",
              "      <td>NaN</td>\n",
              "      <td>NaN</td>\n",
              "      <td>NaN</td>\n",
              "      <td>NaN</td>\n",
              "      <td>1a3c1e25</td>\n",
              "      <td>9710145f_1418_</td>\n",
              "      <td>AS</td>\n",
              "      <td>IN</td>\n",
              "      <td>KA</td>\n",
              "      <td>Bangalore</td>\n",
              "      <td>560053</td>\n",
              "      <td>356004</td>\n",
              "      <td>157.45.233.193</td>\n",
              "      <td>Jio 4G</td>\n",
              "      <td>Jio 4G</td>\n",
              "      <td>English</td>\n",
              "      <td>1624366418000-7376283518974936859</td>\n",
              "      <td>NaN</td>\n",
              "      <td>NaN</td>\n",
              "      <td>78b21bcd-6cf5-432c-88da-cc8736937513</td>\n",
              "      <td>NaN</td>\n",
              "      <td>NaN</td>\n",
              "      <td>NaN</td>\n",
              "      <td>realme-RMX1921</td>\n",
              "      <td>phone</td>\n",
              "      <td>android</td>\n",
              "      <td>10</td>\n",
              "      <td>1.7.1</td>\n",
              "      <td>v5.3.0</td>\n",
              "      <td>com.naviapp</td>\n",
              "      <td>Navi - Instant Personal and Home Loans</td>\n",
              "      <td>False</td>\n",
              "      <td>NaN</td>\n",
              "      <td>NaN</td>\n",
              "      <td>7d</td>\n",
              "      <td>NaN</td>\n",
              "      <td>id_matching</td>\n",
              "      <td>NaN</td>\n",
              "      <td>NaN</td>\n",
              "      <td>NaN</td>\n",
              "      <td>22/06/21 12:50</td>\n",
              "      <td>NaN</td>\n",
              "      <td>NaN</td>\n",
              "      <td>NaN</td>\n",
              "      <td>NaN</td>\n",
              "      <td>51:32.0</td>\n",
              "      <td>realme::RMX1921</td>\n",
              "      <td>NaN</td>\n",
              "      <td>NaN</td>\n",
              "      <td>NaN</td>\n",
              "      <td>NaN</td>\n",
              "      <td>fb9c3703we482te1cfb7c88enf02c4vf241bf8d</td>\n",
              "      <td>http://www.hdm3.in/ti.php?hid=fb9c3703we482te1...</td>\n",
              "      <td>get</td>\n",
              "      <td>503.0</td>\n",
              "      <td>NaN</td>\n",
              "      <td>NaN</td>\n",
              "    </tr>\n",
              "  </tbody>\n",
              "</table>\n",
              "</div>"
            ],
            "text/plain": [
              "  Attributed Touch Type  ... Postback Retry\n",
              "0                 click  ...            NaN\n",
              "1                 click  ...            NaN\n",
              "2                 click  ...            NaN\n",
              "3                 click  ...            NaN\n",
              "\n",
              "[4 rows x 76 columns]"
            ]
          },
          "metadata": {
            "tags": []
          },
          "execution_count": 308
        }
      ]
    },
    {
      "cell_type": "markdown",
      "metadata": {
        "id": "c7w_4Pt94X1q"
      },
      "source": [
        "CHECKING FOR THE NULL VALUES IN THE DATASET"
      ]
    },
    {
      "cell_type": "code",
      "metadata": {
        "colab": {
          "base_uri": "https://localhost:8080/"
        },
        "id": "KTdg-clGPMCG",
        "outputId": "9b2acc6f-8937-4727-bbc9-3f2c537c4eff"
      },
      "source": [
        "Navi_install.isnull().sum()"
      ],
      "execution_count": 344,
      "outputs": [
        {
          "output_type": "execute_result",
          "data": {
            "text/plain": [
              "Attributed Touch Type    0\n",
              "Attributed Touch Time    0\n",
              "Install Time             0\n",
              "Event Time               0\n",
              "Event Name               0\n",
              "Event Source             0\n",
              "Partner                  0\n",
              "Campaign                 0\n",
              "Campaign ID              0\n",
              "Site ID                  0\n",
              "Sub Site ID              0\n",
              "Region                   0\n",
              "Country Code             0\n",
              "State                    0\n",
              "City                     0\n",
              "Postal Code              0\n",
              "DMA                      0\n",
              "IP                       0\n",
              "Language                 0\n",
              "AppsFlyer ID             0\n",
              "Advertising ID           0\n",
              "Device Type              0\n",
              "Device Category          0\n",
              "Platform                 0\n",
              "OS Version               0\n",
              "App Version              0\n",
              "SDK Version              0\n",
              "App ID                   0\n",
              "App Name                 0\n",
              "Is Retargeting           0\n",
              "Attribution Lookback     0\n",
              "Match Type               0\n",
              "Device Download Time     0\n",
              "Device Model             0\n",
              "Unique Click ID          0\n",
              "Postback Url             0\n",
              "Postback Method          0\n",
              "dtype: int64"
            ]
          },
          "metadata": {
            "tags": []
          },
          "execution_count": 344
        }
      ]
    },
    {
      "cell_type": "markdown",
      "metadata": {
        "id": "nrzMX2Iv4dSl"
      },
      "source": [
        "PRINTING THE COLUMN LABELS IN THE DATASET"
      ]
    },
    {
      "cell_type": "code",
      "metadata": {
        "colab": {
          "base_uri": "https://localhost:8080/"
        },
        "id": "FmvTE1YBP1z8",
        "outputId": "50c54c49-3960-4316-f618-a776f574e13c"
      },
      "source": [
        "Navi_install.columns"
      ],
      "execution_count": 310,
      "outputs": [
        {
          "output_type": "execute_result",
          "data": {
            "text/plain": [
              "Index(['Attributed Touch Type', 'Attributed Touch Time', 'Install Time',\n",
              "       'Event Time', 'Event Name', 'Event Value', 'Event Revenue',\n",
              "       'Event Revenue Currency', 'Event Revenue USD', 'Cost Model',\n",
              "       'Cost Value', 'Cost Currency', 'Event Source', 'Partner',\n",
              "       'Media Source', 'Channel', 'Campaign', 'Campaign ID', 'Adset',\n",
              "       'Adset ID', 'Ad', 'Ad ID', 'Ad Type', 'Site ID', 'Sub Site ID',\n",
              "       'Region', 'Country Code', 'State', 'City', 'Postal Code', 'DMA', 'IP',\n",
              "       'Operator', 'Carrier', 'Language', 'AppsFlyer ID', 'Customer User ID',\n",
              "       'Android ID', 'Advertising ID', 'IMEI', 'IDFA', 'IDFV', 'Device Type',\n",
              "       'Device Category', 'Platform', 'OS Version', 'App Version',\n",
              "       'SDK Version', 'App ID', 'App Name', 'Is Retargeting',\n",
              "       'Retargeting Conversion Type', 'Is Primary Attribution',\n",
              "       'Attribution Lookback', 'Reengagement Window', 'Match Type',\n",
              "       'User Agent', 'HTTP Referrer', 'Original URL',\n",
              "       'Google Play Install Begin Time', 'Blocked Reason',\n",
              "       'Blocked Reason Value', 'Blocked Reason Rule', 'Blocked Sub Reason',\n",
              "       'Device Download Time', 'Device Model', 'Attributed Touch Hour',\n",
              "       'Install Hour', 'Event Hour', 'Rejected Reason', 'Unique Click ID',\n",
              "       'Postback Url', 'Postback Method', 'Postback Http Response Code',\n",
              "       'Postback Error Message', 'Postback Retry'],\n",
              "      dtype='object')"
            ]
          },
          "metadata": {
            "tags": []
          },
          "execution_count": 310
        }
      ]
    },
    {
      "cell_type": "markdown",
      "metadata": {
        "id": "mv9jm2Sl4lve"
      },
      "source": [
        "TOTAL SIZE OF THE COLUMN LABEL"
      ]
    },
    {
      "cell_type": "code",
      "metadata": {
        "colab": {
          "base_uri": "https://localhost:8080/"
        },
        "id": "r957VLRsUh5M",
        "outputId": "ecd053ef-4d56-4585-8a55-8555a53b4186"
      },
      "source": [
        "Navi_install.columns.size"
      ],
      "execution_count": 311,
      "outputs": [
        {
          "output_type": "execute_result",
          "data": {
            "text/plain": [
              "76"
            ]
          },
          "metadata": {
            "tags": []
          },
          "execution_count": 311
        }
      ]
    },
    {
      "cell_type": "markdown",
      "metadata": {
        "id": "Lant_NzW5BRG"
      },
      "source": [
        "TOTAL SUM OF NULL VALUES"
      ]
    },
    {
      "cell_type": "code",
      "metadata": {
        "colab": {
          "base_uri": "https://localhost:8080/"
        },
        "id": "4AF7C6MCQK4b",
        "outputId": "ff2be20b-9ebe-4ed6-a5ba-10e8417f46d6"
      },
      "source": [
        "Navi_install.isnull().sum().sum()"
      ],
      "execution_count": 313,
      "outputs": [
        {
          "output_type": "execute_result",
          "data": {
            "text/plain": [
              "1102449"
            ]
          },
          "metadata": {
            "tags": []
          },
          "execution_count": 313
        }
      ]
    },
    {
      "cell_type": "markdown",
      "metadata": {
        "id": "walOkdAW5KuL"
      },
      "source": [
        "PRINITNG THE TOTAL ROWS IN EACH COLUMNS"
      ]
    },
    {
      "cell_type": "code",
      "metadata": {
        "colab": {
          "base_uri": "https://localhost:8080/"
        },
        "id": "DLeel1nvQVWi",
        "outputId": "6fc08af0-d9c2-4baa-e8bd-3e0ae2e4fa40"
      },
      "source": [
        "Navi_install.count()"
      ],
      "execution_count": 314,
      "outputs": [
        {
          "output_type": "execute_result",
          "data": {
            "text/plain": [
              "Attributed Touch Type          32293\n",
              "Attributed Touch Time          32293\n",
              "Install Time                   32293\n",
              "Event Time                     32293\n",
              "Event Name                     32293\n",
              "                               ...  \n",
              "Postback Url                   32293\n",
              "Postback Method                32293\n",
              "Postback Http Response Code    28363\n",
              "Postback Error Message          3930\n",
              "Postback Retry                     0\n",
              "Length: 76, dtype: int64"
            ]
          },
          "metadata": {
            "tags": []
          },
          "execution_count": 314
        }
      ]
    },
    {
      "cell_type": "markdown",
      "metadata": {
        "id": "oHmHBTKe5USL"
      },
      "source": [
        "DROPPING OFF THE NULL VALUES CORRESPONDING TO COLUMN LABELS"
      ]
    },
    {
      "cell_type": "code",
      "metadata": {
        "id": "HMtfJ4u0Qp35"
      },
      "source": [
        "Navi_install=Navi_install.dropna(axis=1)"
      ],
      "execution_count": 315,
      "outputs": []
    },
    {
      "cell_type": "code",
      "metadata": {
        "colab": {
          "base_uri": "https://localhost:8080/"
        },
        "id": "5xa8KdotQ9_f",
        "outputId": "31f58edc-05f0-4ab4-ddbd-6473892dc3d0"
      },
      "source": [
        "Navi_install.isnull().sum()"
      ],
      "execution_count": 316,
      "outputs": [
        {
          "output_type": "execute_result",
          "data": {
            "text/plain": [
              "Attributed Touch Type    0\n",
              "Attributed Touch Time    0\n",
              "Install Time             0\n",
              "Event Time               0\n",
              "Event Name               0\n",
              "Event Source             0\n",
              "Partner                  0\n",
              "Campaign                 0\n",
              "Campaign ID              0\n",
              "Site ID                  0\n",
              "Sub Site ID              0\n",
              "Region                   0\n",
              "Country Code             0\n",
              "State                    0\n",
              "City                     0\n",
              "Postal Code              0\n",
              "DMA                      0\n",
              "IP                       0\n",
              "Language                 0\n",
              "AppsFlyer ID             0\n",
              "Advertising ID           0\n",
              "Device Type              0\n",
              "Device Category          0\n",
              "Platform                 0\n",
              "OS Version               0\n",
              "App Version              0\n",
              "SDK Version              0\n",
              "App ID                   0\n",
              "App Name                 0\n",
              "Is Retargeting           0\n",
              "Attribution Lookback     0\n",
              "Match Type               0\n",
              "Device Download Time     0\n",
              "Device Model             0\n",
              "Unique Click ID          0\n",
              "Postback Url             0\n",
              "Postback Method          0\n",
              "dtype: int64"
            ]
          },
          "metadata": {
            "tags": []
          },
          "execution_count": 316
        }
      ]
    },
    {
      "cell_type": "code",
      "metadata": {
        "colab": {
          "base_uri": "https://localhost:8080/"
        },
        "id": "EFVZX8USRdIG",
        "outputId": "6556a9a1-eb42-4c8b-b685-401f3ac5e740"
      },
      "source": [
        "Navi_install.size"
      ],
      "execution_count": 341,
      "outputs": [
        {
          "output_type": "execute_result",
          "data": {
            "text/plain": [
              "1194841"
            ]
          },
          "metadata": {
            "tags": []
          },
          "execution_count": 341
        }
      ]
    },
    {
      "cell_type": "code",
      "metadata": {
        "colab": {
          "base_uri": "https://localhost:8080/",
          "height": 658
        },
        "id": "0JJ2gQVyR1uu",
        "outputId": "da5a4100-6066-40b7-af9a-b14eb6331c55"
      },
      "source": [
        "Navi_install.head()"
      ],
      "execution_count": 345,
      "outputs": [
        {
          "output_type": "execute_result",
          "data": {
            "text/html": [
              "<div>\n",
              "<style scoped>\n",
              "    .dataframe tbody tr th:only-of-type {\n",
              "        vertical-align: middle;\n",
              "    }\n",
              "\n",
              "    .dataframe tbody tr th {\n",
              "        vertical-align: top;\n",
              "    }\n",
              "\n",
              "    .dataframe thead th {\n",
              "        text-align: right;\n",
              "    }\n",
              "</style>\n",
              "<table border=\"1\" class=\"dataframe\">\n",
              "  <thead>\n",
              "    <tr style=\"text-align: right;\">\n",
              "      <th></th>\n",
              "      <th>Attributed Touch Type</th>\n",
              "      <th>Attributed Touch Time</th>\n",
              "      <th>Install Time</th>\n",
              "      <th>Event Time</th>\n",
              "      <th>Event Name</th>\n",
              "      <th>Event Source</th>\n",
              "      <th>Partner</th>\n",
              "      <th>Campaign</th>\n",
              "      <th>Campaign ID</th>\n",
              "      <th>Site ID</th>\n",
              "      <th>Sub Site ID</th>\n",
              "      <th>Region</th>\n",
              "      <th>Country Code</th>\n",
              "      <th>State</th>\n",
              "      <th>City</th>\n",
              "      <th>Postal Code</th>\n",
              "      <th>DMA</th>\n",
              "      <th>IP</th>\n",
              "      <th>Language</th>\n",
              "      <th>AppsFlyer ID</th>\n",
              "      <th>Advertising ID</th>\n",
              "      <th>Device Type</th>\n",
              "      <th>Device Category</th>\n",
              "      <th>Platform</th>\n",
              "      <th>OS Version</th>\n",
              "      <th>App Version</th>\n",
              "      <th>SDK Version</th>\n",
              "      <th>App ID</th>\n",
              "      <th>App Name</th>\n",
              "      <th>Is Retargeting</th>\n",
              "      <th>Attribution Lookback</th>\n",
              "      <th>Match Type</th>\n",
              "      <th>Device Download Time</th>\n",
              "      <th>Device Model</th>\n",
              "      <th>Unique Click ID</th>\n",
              "      <th>Postback Url</th>\n",
              "      <th>Postback Method</th>\n",
              "    </tr>\n",
              "  </thead>\n",
              "  <tbody>\n",
              "    <tr>\n",
              "      <th>0</th>\n",
              "      <td>click</td>\n",
              "      <td>16/06/21 23:35</td>\n",
              "      <td>22/06/21 13:20</td>\n",
              "      <td>22/06/21 13:20</td>\n",
              "      <td>install</td>\n",
              "      <td>SDK</td>\n",
              "      <td>iperformancemed</td>\n",
              "      <td>{campaign}</td>\n",
              "      <td>{campaign_ID}</td>\n",
              "      <td>1a3c1e25</td>\n",
              "      <td>3137b1df_mvs1316_bf361dys</td>\n",
              "      <td>AS</td>\n",
              "      <td>IN</td>\n",
              "      <td>PB</td>\n",
              "      <td>Amloh</td>\n",
              "      <td>147203</td>\n",
              "      <td>None</td>\n",
              "      <td>157.39.215.95</td>\n",
              "      <td>English</td>\n",
              "      <td>1624368024917-3532564848813473621</td>\n",
              "      <td>781233f8-ba39-4fb1-859b-3ab533fea954</td>\n",
              "      <td>samsung-SM-M017F</td>\n",
              "      <td>phone</td>\n",
              "      <td>android</td>\n",
              "      <td>10</td>\n",
              "      <td>1.5.9</td>\n",
              "      <td>v5.3.0</td>\n",
              "      <td>com.naviapp</td>\n",
              "      <td>Navi - Instant Personal and Home Loans</td>\n",
              "      <td>False</td>\n",
              "      <td>7d</td>\n",
              "      <td>id_matching</td>\n",
              "      <td>17:48.0</td>\n",
              "      <td>samsung::SM-M017F</td>\n",
              "      <td>ca07c28ahe8e4xe1cfbb5478xf0046l6a8dd31a</td>\n",
              "      <td>http://www.hdm3.in/ti.php?hid=ca07c28ahe8e4xe1...</td>\n",
              "      <td>get</td>\n",
              "    </tr>\n",
              "    <tr>\n",
              "      <th>1</th>\n",
              "      <td>click</td>\n",
              "      <td>20/06/21 4:40</td>\n",
              "      <td>22/06/21 13:04</td>\n",
              "      <td>22/06/21 13:04</td>\n",
              "      <td>install</td>\n",
              "      <td>SDK</td>\n",
              "      <td>iperformancemed</td>\n",
              "      <td>campaign</td>\n",
              "      <td>campaign_ID</td>\n",
              "      <td>3a96e05b</td>\n",
              "      <td>fc7003bb_211_6_47067.6d8758e7b2b0ff61</td>\n",
              "      <td>AS</td>\n",
              "      <td>IN</td>\n",
              "      <td>MH</td>\n",
              "      <td>Kurla</td>\n",
              "      <td>400070</td>\n",
              "      <td>356002</td>\n",
              "      <td>49.33.201.41</td>\n",
              "      <td>English</td>\n",
              "      <td>1624367061151-4458370462010318034</td>\n",
              "      <td>9abb87fe-428b-4cb0-a09c-26f43557241c</td>\n",
              "      <td>vivo-vivo 1820</td>\n",
              "      <td>phone</td>\n",
              "      <td>android</td>\n",
              "      <td>8.1.0</td>\n",
              "      <td>1.7.1</td>\n",
              "      <td>v5.3.0</td>\n",
              "      <td>com.naviapp</td>\n",
              "      <td>Navi - Instant Personal and Home Loans</td>\n",
              "      <td>False</td>\n",
              "      <td>7d</td>\n",
              "      <td>id_matching</td>\n",
              "      <td>02:15.0</td>\n",
              "      <td>vivo::vivo 1820</td>\n",
              "      <td>c8588ba5se860xe1cfbbf2aexf0046m4d502343</td>\n",
              "      <td>http://www.hdm3.in/ti.php?hid=c8588ba5se860xe1...</td>\n",
              "      <td>get</td>\n",
              "    </tr>\n",
              "    <tr>\n",
              "      <th>2</th>\n",
              "      <td>click</td>\n",
              "      <td>21/06/21 3:13</td>\n",
              "      <td>22/06/21 13:00</td>\n",
              "      <td>22/06/21 13:00</td>\n",
              "      <td>install</td>\n",
              "      <td>SDK</td>\n",
              "      <td>iperformancemed</td>\n",
              "      <td>{campaign}</td>\n",
              "      <td>{campaign_ID}</td>\n",
              "      <td>3a96e05b</td>\n",
              "      <td>fc7003bb_211_14_88_619013189_3f559228370c</td>\n",
              "      <td>AS</td>\n",
              "      <td>IN</td>\n",
              "      <td>TN</td>\n",
              "      <td>Coimbatore</td>\n",
              "      <td>641603</td>\n",
              "      <td>356007</td>\n",
              "      <td>106.222.121.78</td>\n",
              "      <td>English</td>\n",
              "      <td>1624366844848-4514474707802402331</td>\n",
              "      <td>22621a66-8603-4a35-a391-0c090854816e</td>\n",
              "      <td>OPPO-CPH2095</td>\n",
              "      <td>phone</td>\n",
              "      <td>android</td>\n",
              "      <td>10</td>\n",
              "      <td>1.6.0</td>\n",
              "      <td>v5.3.0</td>\n",
              "      <td>com.naviapp</td>\n",
              "      <td>Navi - Instant Personal and Home Loans</td>\n",
              "      <td>False</td>\n",
              "      <td>7d</td>\n",
              "      <td>id_matching</td>\n",
              "      <td>38:04.0</td>\n",
              "      <td>OPPO::CPH2095</td>\n",
              "      <td>1fdc2c90je860me1cfb7c909of0046me2248c8b</td>\n",
              "      <td>http://www.hdm3.in/ti.php?hid=1fdc2c90je860me1...</td>\n",
              "      <td>get</td>\n",
              "    </tr>\n",
              "    <tr>\n",
              "      <th>3</th>\n",
              "      <td>click</td>\n",
              "      <td>21/06/21 1:36</td>\n",
              "      <td>22/06/21 12:53</td>\n",
              "      <td>22/06/21 12:53</td>\n",
              "      <td>install</td>\n",
              "      <td>SDK</td>\n",
              "      <td>iperformancemed</td>\n",
              "      <td>{campaign}</td>\n",
              "      <td>{campaign_ID}</td>\n",
              "      <td>1a3c1e25</td>\n",
              "      <td>9710145f_1418_</td>\n",
              "      <td>AS</td>\n",
              "      <td>IN</td>\n",
              "      <td>KA</td>\n",
              "      <td>Bangalore</td>\n",
              "      <td>560053</td>\n",
              "      <td>356004</td>\n",
              "      <td>157.45.233.193</td>\n",
              "      <td>English</td>\n",
              "      <td>1624366418000-7376283518974936859</td>\n",
              "      <td>78b21bcd-6cf5-432c-88da-cc8736937513</td>\n",
              "      <td>realme-RMX1921</td>\n",
              "      <td>phone</td>\n",
              "      <td>android</td>\n",
              "      <td>10</td>\n",
              "      <td>1.7.1</td>\n",
              "      <td>v5.3.0</td>\n",
              "      <td>com.naviapp</td>\n",
              "      <td>Navi - Instant Personal and Home Loans</td>\n",
              "      <td>False</td>\n",
              "      <td>7d</td>\n",
              "      <td>id_matching</td>\n",
              "      <td>51:32.0</td>\n",
              "      <td>realme::RMX1921</td>\n",
              "      <td>fb9c3703we482te1cfb7c88enf02c4vf241bf8d</td>\n",
              "      <td>http://www.hdm3.in/ti.php?hid=fb9c3703we482te1...</td>\n",
              "      <td>get</td>\n",
              "    </tr>\n",
              "    <tr>\n",
              "      <th>4</th>\n",
              "      <td>click</td>\n",
              "      <td>21/06/21 4:07</td>\n",
              "      <td>22/06/21 12:45</td>\n",
              "      <td>22/06/21 12:45</td>\n",
              "      <td>install</td>\n",
              "      <td>SDK</td>\n",
              "      <td>iperformancemed</td>\n",
              "      <td>{campaign}</td>\n",
              "      <td>{campaign_ID}</td>\n",
              "      <td>3a96e05b</td>\n",
              "      <td>fc7003bb_238_459012032_060ff81d1cc9</td>\n",
              "      <td>AS</td>\n",
              "      <td>IN</td>\n",
              "      <td>PB</td>\n",
              "      <td>Tarn Taran</td>\n",
              "      <td>143422</td>\n",
              "      <td>None</td>\n",
              "      <td>106.204.196.186</td>\n",
              "      <td>English</td>\n",
              "      <td>1624366238085-1735536912773800065</td>\n",
              "      <td>652f454e-ae7e-448c-89af-46753075c7d0</td>\n",
              "      <td>vivo-vivo 1714</td>\n",
              "      <td>phone</td>\n",
              "      <td>android</td>\n",
              "      <td>7</td>\n",
              "      <td>1.7.1</td>\n",
              "      <td>v5.3.0</td>\n",
              "      <td>com.naviapp</td>\n",
              "      <td>Navi - Instant Personal and Home Loans</td>\n",
              "      <td>False</td>\n",
              "      <td>7d</td>\n",
              "      <td>id_matching</td>\n",
              "      <td>50:30.0</td>\n",
              "      <td>vivo::vivo 1714</td>\n",
              "      <td>ba63e6e9se860se1cfb7c9b8kf0046n00e996e9</td>\n",
              "      <td>http://www.hdm3.in/ti.php?hid=ba63e6e9se860se1...</td>\n",
              "      <td>get</td>\n",
              "    </tr>\n",
              "  </tbody>\n",
              "</table>\n",
              "</div>"
            ],
            "text/plain": [
              "  Attributed Touch Type  ... Postback Method\n",
              "0                 click  ...             get\n",
              "1                 click  ...             get\n",
              "2                 click  ...             get\n",
              "3                 click  ...             get\n",
              "4                 click  ...             get\n",
              "\n",
              "[5 rows x 37 columns]"
            ]
          },
          "metadata": {
            "tags": []
          },
          "execution_count": 345
        }
      ]
    },
    {
      "cell_type": "markdown",
      "metadata": {
        "id": "G11WIo3m5e-i"
      },
      "source": [
        "EXECUTING THE LAST FIVE ELEMENTS IN THE DATASET"
      ]
    },
    {
      "cell_type": "code",
      "metadata": {
        "colab": {
          "base_uri": "https://localhost:8080/",
          "height": 658
        },
        "id": "v6YKHDIYxH9C",
        "outputId": "a695724c-6144-4fc5-e331-ac29fd946985"
      },
      "source": [
        "Navi_install.tail()"
      ],
      "execution_count": 319,
      "outputs": [
        {
          "output_type": "execute_result",
          "data": {
            "text/html": [
              "<div>\n",
              "<style scoped>\n",
              "    .dataframe tbody tr th:only-of-type {\n",
              "        vertical-align: middle;\n",
              "    }\n",
              "\n",
              "    .dataframe tbody tr th {\n",
              "        vertical-align: top;\n",
              "    }\n",
              "\n",
              "    .dataframe thead th {\n",
              "        text-align: right;\n",
              "    }\n",
              "</style>\n",
              "<table border=\"1\" class=\"dataframe\">\n",
              "  <thead>\n",
              "    <tr style=\"text-align: right;\">\n",
              "      <th></th>\n",
              "      <th>Attributed Touch Type</th>\n",
              "      <th>Attributed Touch Time</th>\n",
              "      <th>Install Time</th>\n",
              "      <th>Event Time</th>\n",
              "      <th>Event Name</th>\n",
              "      <th>Event Source</th>\n",
              "      <th>Partner</th>\n",
              "      <th>Campaign</th>\n",
              "      <th>Campaign ID</th>\n",
              "      <th>Site ID</th>\n",
              "      <th>Sub Site ID</th>\n",
              "      <th>Region</th>\n",
              "      <th>Country Code</th>\n",
              "      <th>State</th>\n",
              "      <th>City</th>\n",
              "      <th>Postal Code</th>\n",
              "      <th>DMA</th>\n",
              "      <th>IP</th>\n",
              "      <th>Language</th>\n",
              "      <th>AppsFlyer ID</th>\n",
              "      <th>Advertising ID</th>\n",
              "      <th>Device Type</th>\n",
              "      <th>Device Category</th>\n",
              "      <th>Platform</th>\n",
              "      <th>OS Version</th>\n",
              "      <th>App Version</th>\n",
              "      <th>SDK Version</th>\n",
              "      <th>App ID</th>\n",
              "      <th>App Name</th>\n",
              "      <th>Is Retargeting</th>\n",
              "      <th>Attribution Lookback</th>\n",
              "      <th>Match Type</th>\n",
              "      <th>Device Download Time</th>\n",
              "      <th>Device Model</th>\n",
              "      <th>Unique Click ID</th>\n",
              "      <th>Postback Url</th>\n",
              "      <th>Postback Method</th>\n",
              "    </tr>\n",
              "  </thead>\n",
              "  <tbody>\n",
              "    <tr>\n",
              "      <th>32288</th>\n",
              "      <td>click</td>\n",
              "      <td>01/05/21 1:15</td>\n",
              "      <td>01/05/21 1:16</td>\n",
              "      <td>01/05/21 1:16</td>\n",
              "      <td>install</td>\n",
              "      <td>SDK</td>\n",
              "      <td>netcore</td>\n",
              "      <td>netcore</td>\n",
              "      <td>{campaign_ID}</td>\n",
              "      <td>d43331fd</td>\n",
              "      <td>28b32566_1099501_6138</td>\n",
              "      <td>AS</td>\n",
              "      <td>IN</td>\n",
              "      <td>UP</td>\n",
              "      <td>Allahabad</td>\n",
              "      <td>211003</td>\n",
              "      <td>356010</td>\n",
              "      <td>103.159.107.204</td>\n",
              "      <td>English</td>\n",
              "      <td>1619831764636-11651514976396289661</td>\n",
              "      <td>6f6d31c1-11bd-404f-97c0-3605296a9812</td>\n",
              "      <td>samsung-SM-G970F</td>\n",
              "      <td>phone</td>\n",
              "      <td>android</td>\n",
              "      <td>10</td>\n",
              "      <td>1.5.6</td>\n",
              "      <td>v5.3.0</td>\n",
              "      <td>com.naviapp</td>\n",
              "      <td>Navi - Instant Personal and Home Loans</td>\n",
              "      <td>False</td>\n",
              "      <td>7d</td>\n",
              "      <td>gp_referrer</td>\n",
              "      <td>16:01.0</td>\n",
              "      <td>samsung::SM-G970F</td>\n",
              "      <td>5c670fb2me5feme1cf53a8d3xf0c4fgc0650261</td>\n",
              "      <td>http://www.hdm3.in/ti.php?hid=5c670fb2me5feme1...</td>\n",
              "      <td>get</td>\n",
              "    </tr>\n",
              "    <tr>\n",
              "      <th>32289</th>\n",
              "      <td>click</td>\n",
              "      <td>01/05/21 1:15</td>\n",
              "      <td>01/05/21 1:16</td>\n",
              "      <td>01/05/21 1:16</td>\n",
              "      <td>install</td>\n",
              "      <td>SDK</td>\n",
              "      <td>netcore</td>\n",
              "      <td>netcore</td>\n",
              "      <td>{campaign_ID}</td>\n",
              "      <td>d43331fd</td>\n",
              "      <td>28b32566_1099501_6138</td>\n",
              "      <td>AS</td>\n",
              "      <td>IN</td>\n",
              "      <td>RJ</td>\n",
              "      <td>Jodhpur</td>\n",
              "      <td>342001</td>\n",
              "      <td>356001</td>\n",
              "      <td>112.196.188.61</td>\n",
              "      <td>English</td>\n",
              "      <td>1619831760577-2523112475201227391</td>\n",
              "      <td>9869d674-2cdd-47b2-9a93-688fdeda6888</td>\n",
              "      <td>samsung-SM-A705FN</td>\n",
              "      <td>phone</td>\n",
              "      <td>android</td>\n",
              "      <td>9</td>\n",
              "      <td>1.5.6</td>\n",
              "      <td>v5.3.0</td>\n",
              "      <td>com.naviapp</td>\n",
              "      <td>Navi - Instant Personal and Home Loans</td>\n",
              "      <td>False</td>\n",
              "      <td>7d</td>\n",
              "      <td>gp_referrer</td>\n",
              "      <td>15:57.0</td>\n",
              "      <td>samsung::SM-A705FN</td>\n",
              "      <td>c310a5ebpe5fese1cf53a8d3rf0c4ftd620fe74</td>\n",
              "      <td>http://www.hdm3.in/ti.php?hid=c310a5ebpe5fese1...</td>\n",
              "      <td>get</td>\n",
              "    </tr>\n",
              "    <tr>\n",
              "      <th>32290</th>\n",
              "      <td>click</td>\n",
              "      <td>01/05/21 1:15</td>\n",
              "      <td>01/05/21 1:16</td>\n",
              "      <td>01/05/21 1:16</td>\n",
              "      <td>install</td>\n",
              "      <td>SDK</td>\n",
              "      <td>netcore</td>\n",
              "      <td>netcore</td>\n",
              "      <td>{campaign_ID}</td>\n",
              "      <td>d43331fd</td>\n",
              "      <td>28b32566_1099501_6138</td>\n",
              "      <td>AS</td>\n",
              "      <td>IN</td>\n",
              "      <td>TN</td>\n",
              "      <td>Viluppuram</td>\n",
              "      <td>604303</td>\n",
              "      <td>356007</td>\n",
              "      <td>42.109.143.111</td>\n",
              "      <td>English</td>\n",
              "      <td>1619831758303-5225346164698672800</td>\n",
              "      <td>44b7876c-d3b3-4521-bed8-1d03f6a1384a</td>\n",
              "      <td>HONOR-FRD-L09</td>\n",
              "      <td>phone</td>\n",
              "      <td>android</td>\n",
              "      <td>8.0.0</td>\n",
              "      <td>1.5.6</td>\n",
              "      <td>v5.3.0</td>\n",
              "      <td>com.naviapp</td>\n",
              "      <td>Navi - Instant Personal and Home Loans</td>\n",
              "      <td>False</td>\n",
              "      <td>7d</td>\n",
              "      <td>gp_referrer</td>\n",
              "      <td>15:55.0</td>\n",
              "      <td>HONOR::FRD-L09</td>\n",
              "      <td>b973193are5feve1cf53a8d3hf0c4fyb5b2ff93</td>\n",
              "      <td>http://www.hdm3.in/ti.php?hid=b973193are5feve1...</td>\n",
              "      <td>get</td>\n",
              "    </tr>\n",
              "    <tr>\n",
              "      <th>32291</th>\n",
              "      <td>click</td>\n",
              "      <td>01/05/21 1:15</td>\n",
              "      <td>01/05/21 1:15</td>\n",
              "      <td>01/05/21 1:15</td>\n",
              "      <td>install</td>\n",
              "      <td>SDK</td>\n",
              "      <td>netcore</td>\n",
              "      <td>netcore</td>\n",
              "      <td>{campaign_ID}</td>\n",
              "      <td>d43331fd</td>\n",
              "      <td>28b32566_1099501_6138</td>\n",
              "      <td>AS</td>\n",
              "      <td>IN</td>\n",
              "      <td>MH</td>\n",
              "      <td>Thane</td>\n",
              "      <td>400701</td>\n",
              "      <td>356002</td>\n",
              "      <td>1.186.171.204</td>\n",
              "      <td>English</td>\n",
              "      <td>1619831754964-15227835406673926032</td>\n",
              "      <td>c1c03a92-d75a-4915-ba4c-90b098b7507b</td>\n",
              "      <td>xiaomi-Redmi Note 7</td>\n",
              "      <td>phone</td>\n",
              "      <td>android</td>\n",
              "      <td>9</td>\n",
              "      <td>1.5.6</td>\n",
              "      <td>v5.3.0</td>\n",
              "      <td>com.naviapp</td>\n",
              "      <td>Navi - Instant Personal and Home Loans</td>\n",
              "      <td>False</td>\n",
              "      <td>7d</td>\n",
              "      <td>gp_referrer</td>\n",
              "      <td>15:51.0</td>\n",
              "      <td>xiaomi::Redmi Note 7</td>\n",
              "      <td>82c412e3ye5fese1cf53a8d3kf0c4fha5b42a3f</td>\n",
              "      <td>http://www.hdm3.in/ti.php?hid=82c412e3ye5fese1...</td>\n",
              "      <td>get</td>\n",
              "    </tr>\n",
              "    <tr>\n",
              "      <th>32292</th>\n",
              "      <td>click</td>\n",
              "      <td>01/05/21 1:15</td>\n",
              "      <td>01/05/21 1:15</td>\n",
              "      <td>01/05/21 1:15</td>\n",
              "      <td>install</td>\n",
              "      <td>SDK</td>\n",
              "      <td>netcore</td>\n",
              "      <td>netcore</td>\n",
              "      <td>{campaign_ID}</td>\n",
              "      <td>d43331fd</td>\n",
              "      <td>28b32566_1099501_6138</td>\n",
              "      <td>AS</td>\n",
              "      <td>IN</td>\n",
              "      <td>KL</td>\n",
              "      <td>Kottayam</td>\n",
              "      <td>686560</td>\n",
              "      <td>None</td>\n",
              "      <td>202.164.131.172</td>\n",
              "      <td>English</td>\n",
              "      <td>1619831754702-17580910616979127909</td>\n",
              "      <td>b410bb8f-38ba-4a23-8747-bdc3101504dd</td>\n",
              "      <td>samsung-SM-J337P</td>\n",
              "      <td>phone</td>\n",
              "      <td>android</td>\n",
              "      <td>8.0.0</td>\n",
              "      <td>1.5.6</td>\n",
              "      <td>v5.3.0</td>\n",
              "      <td>com.naviapp</td>\n",
              "      <td>Navi - Instant Personal and Home Loans</td>\n",
              "      <td>False</td>\n",
              "      <td>7d</td>\n",
              "      <td>gp_referrer</td>\n",
              "      <td>15:51.0</td>\n",
              "      <td>samsung::SM-J337P</td>\n",
              "      <td>d2cdf2a3we5fepe1cf53a8d3vf0c4fm49090e4c</td>\n",
              "      <td>http://www.hdm3.in/ti.php?hid=d2cdf2a3we5fepe1...</td>\n",
              "      <td>get</td>\n",
              "    </tr>\n",
              "  </tbody>\n",
              "</table>\n",
              "</div>"
            ],
            "text/plain": [
              "      Attributed Touch Type  ... Postback Method\n",
              "32288                 click  ...             get\n",
              "32289                 click  ...             get\n",
              "32290                 click  ...             get\n",
              "32291                 click  ...             get\n",
              "32292                 click  ...             get\n",
              "\n",
              "[5 rows x 37 columns]"
            ]
          },
          "metadata": {
            "tags": []
          },
          "execution_count": 319
        }
      ]
    },
    {
      "cell_type": "code",
      "metadata": {
        "colab": {
          "base_uri": "https://localhost:8080/",
          "height": 290
        },
        "id": "PD2p3O52ZYti",
        "outputId": "2748bfbc-fb51-4987-e733-b13ec25b61d1"
      },
      "source": [
        "Navi_install.describe()"
      ],
      "execution_count": 320,
      "outputs": [
        {
          "output_type": "execute_result",
          "data": {
            "text/html": [
              "<div>\n",
              "<style scoped>\n",
              "    .dataframe tbody tr th:only-of-type {\n",
              "        vertical-align: middle;\n",
              "    }\n",
              "\n",
              "    .dataframe tbody tr th {\n",
              "        vertical-align: top;\n",
              "    }\n",
              "\n",
              "    .dataframe thead th {\n",
              "        text-align: right;\n",
              "    }\n",
              "</style>\n",
              "<table border=\"1\" class=\"dataframe\">\n",
              "  <thead>\n",
              "    <tr style=\"text-align: right;\">\n",
              "      <th></th>\n",
              "      <th>Postal Code</th>\n",
              "    </tr>\n",
              "  </thead>\n",
              "  <tbody>\n",
              "    <tr>\n",
              "      <th>count</th>\n",
              "      <td>32293.000000</td>\n",
              "    </tr>\n",
              "    <tr>\n",
              "      <th>mean</th>\n",
              "      <td>482871.120181</td>\n",
              "    </tr>\n",
              "    <tr>\n",
              "      <th>std</th>\n",
              "      <td>213827.800883</td>\n",
              "    </tr>\n",
              "    <tr>\n",
              "      <th>min</th>\n",
              "      <td>110001.000000</td>\n",
              "    </tr>\n",
              "    <tr>\n",
              "      <th>25%</th>\n",
              "      <td>311802.000000</td>\n",
              "    </tr>\n",
              "    <tr>\n",
              "      <th>50%</th>\n",
              "      <td>495452.000000</td>\n",
              "    </tr>\n",
              "    <tr>\n",
              "      <th>75%</th>\n",
              "      <td>676510.000000</td>\n",
              "    </tr>\n",
              "    <tr>\n",
              "      <th>max</th>\n",
              "      <td>855117.000000</td>\n",
              "    </tr>\n",
              "  </tbody>\n",
              "</table>\n",
              "</div>"
            ],
            "text/plain": [
              "         Postal Code\n",
              "count   32293.000000\n",
              "mean   482871.120181\n",
              "std    213827.800883\n",
              "min    110001.000000\n",
              "25%    311802.000000\n",
              "50%    495452.000000\n",
              "75%    676510.000000\n",
              "max    855117.000000"
            ]
          },
          "metadata": {
            "tags": []
          },
          "execution_count": 320
        }
      ]
    },
    {
      "cell_type": "code",
      "metadata": {
        "colab": {
          "base_uri": "https://localhost:8080/"
        },
        "id": "heLaoD4PZclz",
        "outputId": "2bc71934-b0ed-4ba0-a7ea-d31ce6851ef2"
      },
      "source": [
        "Navi_install.isnull().sum()"
      ],
      "execution_count": 322,
      "outputs": [
        {
          "output_type": "execute_result",
          "data": {
            "text/plain": [
              "Attributed Touch Type    0\n",
              "Attributed Touch Time    0\n",
              "Install Time             0\n",
              "Event Time               0\n",
              "Event Name               0\n",
              "Event Source             0\n",
              "Partner                  0\n",
              "Campaign                 0\n",
              "Campaign ID              0\n",
              "Site ID                  0\n",
              "Sub Site ID              0\n",
              "Region                   0\n",
              "Country Code             0\n",
              "State                    0\n",
              "City                     0\n",
              "Postal Code              0\n",
              "DMA                      0\n",
              "IP                       0\n",
              "Language                 0\n",
              "AppsFlyer ID             0\n",
              "Advertising ID           0\n",
              "Device Type              0\n",
              "Device Category          0\n",
              "Platform                 0\n",
              "OS Version               0\n",
              "App Version              0\n",
              "SDK Version              0\n",
              "App ID                   0\n",
              "App Name                 0\n",
              "Is Retargeting           0\n",
              "Attribution Lookback     0\n",
              "Match Type               0\n",
              "Device Download Time     0\n",
              "Device Model             0\n",
              "Unique Click ID          0\n",
              "Postback Url             0\n",
              "Postback Method          0\n",
              "dtype: int64"
            ]
          },
          "metadata": {
            "tags": []
          },
          "execution_count": 322
        }
      ]
    },
    {
      "cell_type": "code",
      "metadata": {
        "colab": {
          "base_uri": "https://localhost:8080/"
        },
        "id": "VzRDgRzwUP5c",
        "outputId": "f28c78c8-2503-4df6-ce7f-02524698a293"
      },
      "source": [
        "Navi_install.columns.size"
      ],
      "execution_count": 324,
      "outputs": [
        {
          "output_type": "execute_result",
          "data": {
            "text/plain": [
              "37"
            ]
          },
          "metadata": {
            "tags": []
          },
          "execution_count": 324
        }
      ]
    },
    {
      "cell_type": "code",
      "metadata": {
        "colab": {
          "base_uri": "https://localhost:8080/"
        },
        "id": "e7lXYnV_Um37",
        "outputId": "9185e48c-c692-46d5-cbc6-892da5edebc2"
      },
      "source": [
        "Navi_install.count()"
      ],
      "execution_count": 325,
      "outputs": [
        {
          "output_type": "execute_result",
          "data": {
            "text/plain": [
              "Attributed Touch Type    32293\n",
              "Attributed Touch Time    32293\n",
              "Install Time             32293\n",
              "Event Time               32293\n",
              "Event Name               32293\n",
              "Event Source             32293\n",
              "Partner                  32293\n",
              "Campaign                 32293\n",
              "Campaign ID              32293\n",
              "Site ID                  32293\n",
              "Sub Site ID              32293\n",
              "Region                   32293\n",
              "Country Code             32293\n",
              "State                    32293\n",
              "City                     32293\n",
              "Postal Code              32293\n",
              "DMA                      32293\n",
              "IP                       32293\n",
              "Language                 32293\n",
              "AppsFlyer ID             32293\n",
              "Advertising ID           32293\n",
              "Device Type              32293\n",
              "Device Category          32293\n",
              "Platform                 32293\n",
              "OS Version               32293\n",
              "App Version              32293\n",
              "SDK Version              32293\n",
              "App ID                   32293\n",
              "App Name                 32293\n",
              "Is Retargeting           32293\n",
              "Attribution Lookback     32293\n",
              "Match Type               32293\n",
              "Device Download Time     32293\n",
              "Device Model             32293\n",
              "Unique Click ID          32293\n",
              "Postback Url             32293\n",
              "Postback Method          32293\n",
              "dtype: int64"
            ]
          },
          "metadata": {
            "tags": []
          },
          "execution_count": 325
        }
      ]
    },
    {
      "cell_type": "markdown",
      "metadata": {
        "id": "9Z-LHZBf5rQg"
      },
      "source": [
        "GIVES UNIQUE VALUES OF ROW CORRESPONDING TO STATE LABEL"
      ]
    },
    {
      "cell_type": "code",
      "metadata": {
        "colab": {
          "base_uri": "https://localhost:8080/"
        },
        "id": "wjhw87WZbrTL",
        "outputId": "c27dbb78-07fc-4862-c3fa-2f0bebc9526b"
      },
      "source": [
        "Navi_install[\"State\"].unique()"
      ],
      "execution_count": 326,
      "outputs": [
        {
          "output_type": "execute_result",
          "data": {
            "text/plain": [
              "array(['PB', 'MH', 'TN', 'KA', 'AP', 'TG', 'BR', 'CH', 'UT', 'CT', 'HR',\n",
              "       'MP', 'UP', 'WB', 'AS', 'GJ', 'JH', 'OR', 'RJ', 'MN', 'DL', 'KL',\n",
              "       'HP', 'NL', 'JK', 'GA', 'MZ', 'AN', 'SK', 'ML', 'TR', 'PY', 'DH',\n",
              "       'AR', 'LA', 'LD', 'DD'], dtype=object)"
            ]
          },
          "metadata": {
            "tags": []
          },
          "execution_count": 326
        }
      ]
    },
    {
      "cell_type": "markdown",
      "metadata": {
        "id": "yPF0mDoQ55VM"
      },
      "source": [
        "PRINTING ALL THE COUNT OF ROW VALUES CORRESPONDING TO STATE LABEL WITHIN THE RANGE OF 0-1"
      ]
    },
    {
      "cell_type": "code",
      "metadata": {
        "colab": {
          "base_uri": "https://localhost:8080/"
        },
        "id": "Yh4p4VSUbvqK",
        "outputId": "67323652-2856-40fc-f72f-90fa659edd42"
      },
      "source": [
        "Navi_install[\"State\"].value_counts(['PB', 'MH', 'TN', 'KA', 'AP', 'TG', 'BR', 'CH', 'UT', 'CT', 'HR',\n",
        "       'MP', 'UP', 'WB', 'AS', 'GJ', 'JH', 'OR', 'RJ', 'MN', 'DL', 'KL',\n",
        "       'HP', 'NL', 'JK', 'GA', 'MZ', 'AN', 'SK', 'ML', 'TR', 'PY', 'DH',\n",
        "       'AR', 'LA', 'LD', 'DD'])"
      ],
      "execution_count": 327,
      "outputs": [
        {
          "output_type": "execute_result",
          "data": {
            "text/plain": [
              "MH    0.116589\n",
              "UP    0.100765\n",
              "TN    0.079739\n",
              "WB    0.073298\n",
              "KA    0.060756\n",
              "TG    0.056545\n",
              "KL    0.055894\n",
              "GJ    0.051807\n",
              "MP    0.047317\n",
              "DL    0.044282\n",
              "RJ    0.043725\n",
              "BR    0.040690\n",
              "AP    0.033784\n",
              "AS    0.030657\n",
              "HR    0.025981\n",
              "PB    0.025826\n",
              "OR    0.021398\n",
              "JH    0.019880\n",
              "UT    0.012789\n",
              "CT    0.012603\n",
              "HP    0.009662\n",
              "MN    0.007370\n",
              "JK    0.006844\n",
              "TR    0.003468\n",
              "NL    0.003097\n",
              "ML    0.003097\n",
              "MZ    0.002725\n",
              "CH    0.002632\n",
              "AR    0.002137\n",
              "GA    0.001610\n",
              "SK    0.001146\n",
              "PY    0.000836\n",
              "DH    0.000341\n",
              "AN    0.000248\n",
              "DD    0.000217\n",
              "LA    0.000217\n",
              "LD    0.000031\n",
              "Name: State, dtype: float64"
            ]
          },
          "metadata": {
            "tags": []
          },
          "execution_count": 327
        }
      ]
    },
    {
      "cell_type": "code",
      "metadata": {
        "colab": {
          "base_uri": "https://localhost:8080/"
        },
        "id": "nMut0TEXcYnC",
        "outputId": "dcad2f6a-3f62-4ab0-f909-e89eba823acf"
      },
      "source": [
        "Navi_install[\"State\"].value_counts([\"MH\"]).count()"
      ],
      "execution_count": 328,
      "outputs": [
        {
          "output_type": "execute_result",
          "data": {
            "text/plain": [
              "37"
            ]
          },
          "metadata": {
            "tags": []
          },
          "execution_count": 328
        }
      ]
    },
    {
      "cell_type": "code",
      "metadata": {
        "colab": {
          "base_uri": "https://localhost:8080/"
        },
        "id": "QoRco2UPdvbM",
        "outputId": "bb596f69-2247-4f57-9a3b-cd8906668ec2"
      },
      "source": [
        "Navi_install[\"State\"].value_counts([\"TN\"]).count()"
      ],
      "execution_count": 329,
      "outputs": [
        {
          "output_type": "execute_result",
          "data": {
            "text/plain": [
              "37"
            ]
          },
          "metadata": {
            "tags": []
          },
          "execution_count": 329
        }
      ]
    },
    {
      "cell_type": "code",
      "metadata": {
        "colab": {
          "base_uri": "https://localhost:8080/"
        },
        "id": "bfbXWMXBcfIb",
        "outputId": "c431b393-dd19-41c7-9238-6f5a9e279170"
      },
      "source": [
        "Navi_install.groupby(['State'])['City'].sum()\n"
      ],
      "execution_count": 330,
      "outputs": [
        {
          "output_type": "execute_result",
          "data": {
            "text/plain": [
              "State\n",
              "AN    TugapurPort BlairPort BlairBambooflatPort Blai...\n",
              "AP    AvanigaddaRamaraopetIndustrial EstateVisakhapa...\n",
              "AR    AlongAdipasiAdipasiB.SupplyAlongItanagarChimpu...\n",
              "AS    DibrugarhBhagawatiparaPaltanbazarBongaigaonBha...\n",
              "BR    RohtasPatnaPatnaPusaGauraMuzaffarpurPatnaPatna...\n",
              "CH    ChandigarhChandigarhChandigarhChandigarhManima...\n",
              "CT    BaimanagoiAkalsaraMathpurenaBhatgaon CollyBade...\n",
              "DD            DholarDabhelDabhelDabhelDabhelDabhelDaman\n",
              "DH    DamanDabhelDamanDamanDabhelSilvassaDamanSilvas...\n",
              "DL    MehrauliDelhiDelhiDelhiKalkajiShahdaraDelhiDel...\n",
              "GA    VelimBetora I.E.Betora I.E.Betora I.E.QuepemPa...\n",
              "GJ    ValsadSinorVapiSuratDhrangadhraBotadBotadSurat...\n",
              "HP    KangraRajgarhKangraSolanKangraHamirpurBhadwarS...\n",
              "HR    Faridabad CitySonipatJhajjarPanipatHisarKarnal...\n",
              "JH    JamshedpurGumlaBokaro Steel CitySimdegaBokaro ...\n",
              "JK    JammuSrinagarSrinagarJammuBanoonPulwamaJammuBu...\n",
              "KA    BangaloreBangaloreBangaloreBangaloreBangaloreB...\n",
              "KL    ThiruvananthapuramKannurErnakulamErnakulamPala...\n",
              "LA    Leh CityLeh CityLeh CityLeh CityLeh CityChamra...\n",
              "LD                                            Kavaratti\n",
              "MH    KurlaAhmednagarSataraSataraPuneAurangabadThane...\n",
              "ML    CherrapunjeeJowaiLaitumkhrahAmlariDamalgiriLai...\n",
              "MN    BishnupurImphalImphalImphalTamenglongTamenglon...\n",
              "MP    IndoreSehoreIndoreBhopalDewasGwalior CitySatna...\n",
              "MZ    AizawlAizawlZohnuaiZohnuaiSaihaAizawlAizawlAiz...\n",
              "NL    MonyakshuZunhebotoHukpangDimapurBongkholongKoh...\n",
              "OR    JharsugudaKhurdaKendraparaBalasoreSundargarhKh...\n",
              "PB    AmlohTarn TaranJalandhar CityMuktsarMogaKumbra...\n",
              "PY    KaraikalNellithoppeNellithoppeNellithoppeLawsp...\n",
              "RJ    AlwarJodhpurAjmerJaipurBaranJaipurJaloreJaipur...\n",
              "SK    MakhaNamchiBhusukBhusukGangtokEast PendamEast ...\n",
              "TG    HyderabadWarangalHyderabadHyderabadHyderabadNi...\n",
              "TN    CoimbatoreChennaiRamanathapuramCuddaloreChenna...\n",
              "TR    ArundhutinagarAgartalaDharmanagarDharmanagarDh...\n",
              "UP    VaranasiAgraSardhanaLucknowBareillyKanpurGauta...\n",
              "UT    HaridwarNainitalHaridwarHaridwarDehradunDehrad...\n",
              "WB    BangaonCalcuttaMurshidabadCalcuttaDurgapurCalc...\n",
              "Name: City, dtype: object"
            ]
          },
          "metadata": {
            "tags": []
          },
          "execution_count": 330
        }
      ]
    },
    {
      "cell_type": "code",
      "metadata": {
        "colab": {
          "base_uri": "https://localhost:8080/"
        },
        "id": "_zAFpizWdZxY",
        "outputId": "6fd14815-9945-4c0b-becb-a20d05f9987a"
      },
      "source": [
        "Navi_install[\"Device Type\"].unique()"
      ],
      "execution_count": 331,
      "outputs": [
        {
          "output_type": "execute_result",
          "data": {
            "text/plain": [
              "array(['samsung-SM-M017F', 'vivo-vivo 1820', 'OPPO-CPH2095', ...,\n",
              "       'samsung-SM-T295', 'GIONEE-SM-H266D', 'realme-SM-E748K'],\n",
              "      dtype=object)"
            ]
          },
          "metadata": {
            "tags": []
          },
          "execution_count": 331
        }
      ]
    },
    {
      "cell_type": "markdown",
      "metadata": {
        "id": "QIqKoSaR6Jb4"
      },
      "source": [
        "USING SQL GROUPBY COMMAND WE ARE GROUPING THE TWO LABELS AND SUMMING THE VALUES"
      ]
    },
    {
      "cell_type": "code",
      "metadata": {
        "colab": {
          "base_uri": "https://localhost:8080/"
        },
        "id": "a0KzrVZLewaS",
        "outputId": "c8507728-5c7a-4b3c-ac43-e229e8a848bf"
      },
      "source": [
        "Navi_install.groupby(['Device Type'])['OS Version'].sum()"
      ],
      "execution_count": 332,
      "outputs": [
        {
          "output_type": "execute_result",
          "data": {
            "text/plain": [
              "Device Type\n",
              "10or-D2                                              8.1.0\n",
              "10or-E                                     7.1.28.1.08.1.0\n",
              "10or-G                                          8.1.07.1.2\n",
              "AIR-AIR            777777777777777777777777777777777777777\n",
              "ALLDOCUBE-T701                                           9\n",
              "                                    ...                   \n",
              "zte-A2019G Pro                                           9\n",
              "zte-BLADE V0920                                      8.1.0\n",
              "zte-Z5151V                                           8.1.0\n",
              "zte-Z557BL                                           8.1.0\n",
              "zte-Z559DL                                           8.1.0\n",
              "Name: OS Version, Length: 16501, dtype: object"
            ]
          },
          "metadata": {
            "tags": []
          },
          "execution_count": 332
        }
      ]
    },
    {
      "cell_type": "markdown",
      "metadata": {
        "id": "sPiIcHD_6RKT"
      },
      "source": [
        "WE ARE OBSERVING THE RELATIONS BETWEEN DIFFERENT LABELS OF NUMBERED VALUES"
      ]
    },
    {
      "cell_type": "code",
      "metadata": {
        "colab": {
          "base_uri": "https://localhost:8080/",
          "height": 421
        },
        "id": "mJKVH05Kxbib",
        "outputId": "b0112db3-176a-4e2f-c2a5-cefcf102e659"
      },
      "source": [
        "sns.pairplot(Navi_install)"
      ],
      "execution_count": 333,
      "outputs": [
        {
          "output_type": "stream",
          "text": [
            "<string>:6: RuntimeWarning: Converting input from bool to <class 'numpy.uint8'> for compatibility.\n",
            "<string>:6: RuntimeWarning: Converting input from bool to <class 'numpy.uint8'> for compatibility.\n"
          ],
          "name": "stderr"
        },
        {
          "output_type": "execute_result",
          "data": {
            "text/plain": [
              "<seaborn.axisgrid.PairGrid at 0x7fdc406c4610>"
            ]
          },
          "metadata": {
            "tags": []
          },
          "execution_count": 333
        },
        {
          "output_type": "display_data",
          "data": {
            "image/png": "[encoded data removed]",
            "text/plain": [
              "<Figure size 360x360 with 6 Axes>"
            ]
          },
          "metadata": {
            "tags": []
          }
        }
      ]
    },
    {
      "cell_type": "markdown",
      "metadata": {
        "id": "XHwbX0Q06obo"
      },
      "source": [
        "USING COUNTPLOT WE ARE COMPARING THE ROW VALUES OF OS VERSION LABEL WHERE OS VERSION OF 6 IS MOST USED OS BY THE CUSTOMER "
      ]
    },
    {
      "cell_type": "code",
      "metadata": {
        "colab": {
          "base_uri": "https://localhost:8080/",
          "height": 627
        },
        "id": "aTjoZ1L6h53P",
        "outputId": "07390b0d-c5a2-4388-a09c-64ba825b21c8"
      },
      "source": [
        "\n",
        "df =Navi_install\n",
        "sns.countplot(x=\"OS Version\", data=df)"
      ],
      "execution_count": 334,
      "outputs": [
        {
          "output_type": "execute_result",
          "data": {
            "text/plain": [
              "<matplotlib.axes._subplots.AxesSubplot at 0x7fdc4049ccd0>"
            ]
          },
          "metadata": {
            "tags": []
          },
          "execution_count": 334
        },
        {
          "output_type": "display_data",
          "data": {
            "image/png": "[encoded data removed]",
            "text/plain": [
              "<Figure size 1080x720 with 1 Axes>"
            ]
          },
          "metadata": {
            "tags": []
          }
        }
      ]
    },
    {
      "cell_type": "markdown",
      "metadata": {
        "id": "bzKsDJLPxHK1"
      },
      "source": [
        ""
      ]
    },
    {
      "cell_type": "markdown",
      "metadata": {
        "id": "nD4tmQSF65pt"
      },
      "source": [
        "USING COUNTPLOT WE ARE COMPARING THE DIIFERENT VALUES OF ROW IN \"APP VERSION\" LABEL WHERE 1.3.7 IS THE MOST USED APP VERSION BY THE CUSTOMER"
      ]
    },
    {
      "cell_type": "code",
      "metadata": {
        "colab": {
          "base_uri": "https://localhost:8080/",
          "height": 627
        },
        "id": "u3n5YAWAjL6w",
        "outputId": "beec81b5-a293-45dc-a383-5e6d08841f29"
      },
      "source": [
        "sns.countplot(x=\"App Version\",data=Navi_install)"
      ],
      "execution_count": 336,
      "outputs": [
        {
          "output_type": "execute_result",
          "data": {
            "text/plain": [
              "<matplotlib.axes._subplots.AxesSubplot at 0x7fdc3fec9390>"
            ]
          },
          "metadata": {
            "tags": []
          },
          "execution_count": 336
        },
        {
          "output_type": "display_data",
          "data": {
            "image/png": "[encoded data removed]",
            "text/plain": [
              "<Figure size 1080x720 with 1 Axes>"
            ]
          },
          "metadata": {
            "tags": []
          }
        }
      ]
    },
    {
      "cell_type": "markdown",
      "metadata": {
        "id": "hCFuRWm-7avf"
      },
      "source": [
        "CORRELATING THE RELATIONSHIP WHERE POSTALCODE BEING CORRELATED MORE"
      ]
    },
    {
      "cell_type": "code",
      "metadata": {
        "colab": {
          "base_uri": "https://localhost:8080/",
          "height": 613
        },
        "id": "Un-N7olyxIRQ",
        "outputId": "224ce0cc-889c-4895-f62a-f9af08ab5f01"
      },
      "source": [
        "sns.heatmap(Navi_install.corr(), annot=True)"
      ],
      "execution_count": 337,
      "outputs": [
        {
          "output_type": "execute_result",
          "data": {
            "text/plain": [
              "<matplotlib.axes._subplots.AxesSubplot at 0x7fdc3ff42ed0>"
            ]
          },
          "metadata": {
            "tags": []
          },
          "execution_count": 337
        },
        {
          "output_type": "display_data",
          "data": {
            "image/png": "[encoded data removed]",
            "text/plain": [
              "<Figure size 1080x720 with 2 Axes>"
            ]
          },
          "metadata": {
            "tags": []
          }
        }
      ]
    },
    {
      "cell_type": "code",
      "metadata": {
        "colab": {
          "base_uri": "https://localhost:8080/",
          "height": 658
        },
        "id": "2KD1hkDeQW7P",
        "outputId": "26301b2c-09b7-430d-bb43-0b3d9924b48a"
      },
      "source": [
        "Navi_install.head()"
      ],
      "execution_count": 338,
      "outputs": [
        {
          "output_type": "execute_result",
          "data": {
            "text/html": [
              "<div>\n",
              "<style scoped>\n",
              "    .dataframe tbody tr th:only-of-type {\n",
              "        vertical-align: middle;\n",
              "    }\n",
              "\n",
              "    .dataframe tbody tr th {\n",
              "        vertical-align: top;\n",
              "    }\n",
              "\n",
              "    .dataframe thead th {\n",
              "        text-align: right;\n",
              "    }\n",
              "</style>\n",
              "<table border=\"1\" class=\"dataframe\">\n",
              "  <thead>\n",
              "    <tr style=\"text-align: right;\">\n",
              "      <th></th>\n",
              "      <th>Attributed Touch Type</th>\n",
              "      <th>Attributed Touch Time</th>\n",
              "      <th>Install Time</th>\n",
              "      <th>Event Time</th>\n",
              "      <th>Event Name</th>\n",
              "      <th>Event Source</th>\n",
              "      <th>Partner</th>\n",
              "      <th>Campaign</th>\n",
              "      <th>Campaign ID</th>\n",
              "      <th>Site ID</th>\n",
              "      <th>Sub Site ID</th>\n",
              "      <th>Region</th>\n",
              "      <th>Country Code</th>\n",
              "      <th>State</th>\n",
              "      <th>City</th>\n",
              "      <th>Postal Code</th>\n",
              "      <th>DMA</th>\n",
              "      <th>IP</th>\n",
              "      <th>Language</th>\n",
              "      <th>AppsFlyer ID</th>\n",
              "      <th>Advertising ID</th>\n",
              "      <th>Device Type</th>\n",
              "      <th>Device Category</th>\n",
              "      <th>Platform</th>\n",
              "      <th>OS Version</th>\n",
              "      <th>App Version</th>\n",
              "      <th>SDK Version</th>\n",
              "      <th>App ID</th>\n",
              "      <th>App Name</th>\n",
              "      <th>Is Retargeting</th>\n",
              "      <th>Attribution Lookback</th>\n",
              "      <th>Match Type</th>\n",
              "      <th>Device Download Time</th>\n",
              "      <th>Device Model</th>\n",
              "      <th>Unique Click ID</th>\n",
              "      <th>Postback Url</th>\n",
              "      <th>Postback Method</th>\n",
              "    </tr>\n",
              "  </thead>\n",
              "  <tbody>\n",
              "    <tr>\n",
              "      <th>0</th>\n",
              "      <td>click</td>\n",
              "      <td>16/06/21 23:35</td>\n",
              "      <td>22/06/21 13:20</td>\n",
              "      <td>22/06/21 13:20</td>\n",
              "      <td>install</td>\n",
              "      <td>SDK</td>\n",
              "      <td>iperformancemed</td>\n",
              "      <td>{campaign}</td>\n",
              "      <td>{campaign_ID}</td>\n",
              "      <td>1a3c1e25</td>\n",
              "      <td>3137b1df_mvs1316_bf361dys</td>\n",
              "      <td>AS</td>\n",
              "      <td>IN</td>\n",
              "      <td>PB</td>\n",
              "      <td>Amloh</td>\n",
              "      <td>147203</td>\n",
              "      <td>None</td>\n",
              "      <td>157.39.215.95</td>\n",
              "      <td>English</td>\n",
              "      <td>1624368024917-3532564848813473621</td>\n",
              "      <td>781233f8-ba39-4fb1-859b-3ab533fea954</td>\n",
              "      <td>samsung-SM-M017F</td>\n",
              "      <td>phone</td>\n",
              "      <td>android</td>\n",
              "      <td>10</td>\n",
              "      <td>1.5.9</td>\n",
              "      <td>v5.3.0</td>\n",
              "      <td>com.naviapp</td>\n",
              "      <td>Navi - Instant Personal and Home Loans</td>\n",
              "      <td>False</td>\n",
              "      <td>7d</td>\n",
              "      <td>id_matching</td>\n",
              "      <td>17:48.0</td>\n",
              "      <td>samsung::SM-M017F</td>\n",
              "      <td>ca07c28ahe8e4xe1cfbb5478xf0046l6a8dd31a</td>\n",
              "      <td>http://www.hdm3.in/ti.php?hid=ca07c28ahe8e4xe1...</td>\n",
              "      <td>get</td>\n",
              "    </tr>\n",
              "    <tr>\n",
              "      <th>1</th>\n",
              "      <td>click</td>\n",
              "      <td>20/06/21 4:40</td>\n",
              "      <td>22/06/21 13:04</td>\n",
              "      <td>22/06/21 13:04</td>\n",
              "      <td>install</td>\n",
              "      <td>SDK</td>\n",
              "      <td>iperformancemed</td>\n",
              "      <td>campaign</td>\n",
              "      <td>campaign_ID</td>\n",
              "      <td>3a96e05b</td>\n",
              "      <td>fc7003bb_211_6_47067.6d8758e7b2b0ff61</td>\n",
              "      <td>AS</td>\n",
              "      <td>IN</td>\n",
              "      <td>MH</td>\n",
              "      <td>Kurla</td>\n",
              "      <td>400070</td>\n",
              "      <td>356002</td>\n",
              "      <td>49.33.201.41</td>\n",
              "      <td>English</td>\n",
              "      <td>1624367061151-4458370462010318034</td>\n",
              "      <td>9abb87fe-428b-4cb0-a09c-26f43557241c</td>\n",
              "      <td>vivo-vivo 1820</td>\n",
              "      <td>phone</td>\n",
              "      <td>android</td>\n",
              "      <td>8.1.0</td>\n",
              "      <td>1.7.1</td>\n",
              "      <td>v5.3.0</td>\n",
              "      <td>com.naviapp</td>\n",
              "      <td>Navi - Instant Personal and Home Loans</td>\n",
              "      <td>False</td>\n",
              "      <td>7d</td>\n",
              "      <td>id_matching</td>\n",
              "      <td>02:15.0</td>\n",
              "      <td>vivo::vivo 1820</td>\n",
              "      <td>c8588ba5se860xe1cfbbf2aexf0046m4d502343</td>\n",
              "      <td>http://www.hdm3.in/ti.php?hid=c8588ba5se860xe1...</td>\n",
              "      <td>get</td>\n",
              "    </tr>\n",
              "    <tr>\n",
              "      <th>2</th>\n",
              "      <td>click</td>\n",
              "      <td>21/06/21 3:13</td>\n",
              "      <td>22/06/21 13:00</td>\n",
              "      <td>22/06/21 13:00</td>\n",
              "      <td>install</td>\n",
              "      <td>SDK</td>\n",
              "      <td>iperformancemed</td>\n",
              "      <td>{campaign}</td>\n",
              "      <td>{campaign_ID}</td>\n",
              "      <td>3a96e05b</td>\n",
              "      <td>fc7003bb_211_14_88_619013189_3f559228370c</td>\n",
              "      <td>AS</td>\n",
              "      <td>IN</td>\n",
              "      <td>TN</td>\n",
              "      <td>Coimbatore</td>\n",
              "      <td>641603</td>\n",
              "      <td>356007</td>\n",
              "      <td>106.222.121.78</td>\n",
              "      <td>English</td>\n",
              "      <td>1624366844848-4514474707802402331</td>\n",
              "      <td>22621a66-8603-4a35-a391-0c090854816e</td>\n",
              "      <td>OPPO-CPH2095</td>\n",
              "      <td>phone</td>\n",
              "      <td>android</td>\n",
              "      <td>10</td>\n",
              "      <td>1.6.0</td>\n",
              "      <td>v5.3.0</td>\n",
              "      <td>com.naviapp</td>\n",
              "      <td>Navi - Instant Personal and Home Loans</td>\n",
              "      <td>False</td>\n",
              "      <td>7d</td>\n",
              "      <td>id_matching</td>\n",
              "      <td>38:04.0</td>\n",
              "      <td>OPPO::CPH2095</td>\n",
              "      <td>1fdc2c90je860me1cfb7c909of0046me2248c8b</td>\n",
              "      <td>http://www.hdm3.in/ti.php?hid=1fdc2c90je860me1...</td>\n",
              "      <td>get</td>\n",
              "    </tr>\n",
              "    <tr>\n",
              "      <th>3</th>\n",
              "      <td>click</td>\n",
              "      <td>21/06/21 1:36</td>\n",
              "      <td>22/06/21 12:53</td>\n",
              "      <td>22/06/21 12:53</td>\n",
              "      <td>install</td>\n",
              "      <td>SDK</td>\n",
              "      <td>iperformancemed</td>\n",
              "      <td>{campaign}</td>\n",
              "      <td>{campaign_ID}</td>\n",
              "      <td>1a3c1e25</td>\n",
              "      <td>9710145f_1418_</td>\n",
              "      <td>AS</td>\n",
              "      <td>IN</td>\n",
              "      <td>KA</td>\n",
              "      <td>Bangalore</td>\n",
              "      <td>560053</td>\n",
              "      <td>356004</td>\n",
              "      <td>157.45.233.193</td>\n",
              "      <td>English</td>\n",
              "      <td>1624366418000-7376283518974936859</td>\n",
              "      <td>78b21bcd-6cf5-432c-88da-cc8736937513</td>\n",
              "      <td>realme-RMX1921</td>\n",
              "      <td>phone</td>\n",
              "      <td>android</td>\n",
              "      <td>10</td>\n",
              "      <td>1.7.1</td>\n",
              "      <td>v5.3.0</td>\n",
              "      <td>com.naviapp</td>\n",
              "      <td>Navi - Instant Personal and Home Loans</td>\n",
              "      <td>False</td>\n",
              "      <td>7d</td>\n",
              "      <td>id_matching</td>\n",
              "      <td>51:32.0</td>\n",
              "      <td>realme::RMX1921</td>\n",
              "      <td>fb9c3703we482te1cfb7c88enf02c4vf241bf8d</td>\n",
              "      <td>http://www.hdm3.in/ti.php?hid=fb9c3703we482te1...</td>\n",
              "      <td>get</td>\n",
              "    </tr>\n",
              "    <tr>\n",
              "      <th>4</th>\n",
              "      <td>click</td>\n",
              "      <td>21/06/21 4:07</td>\n",
              "      <td>22/06/21 12:45</td>\n",
              "      <td>22/06/21 12:45</td>\n",
              "      <td>install</td>\n",
              "      <td>SDK</td>\n",
              "      <td>iperformancemed</td>\n",
              "      <td>{campaign}</td>\n",
              "      <td>{campaign_ID}</td>\n",
              "      <td>3a96e05b</td>\n",
              "      <td>fc7003bb_238_459012032_060ff81d1cc9</td>\n",
              "      <td>AS</td>\n",
              "      <td>IN</td>\n",
              "      <td>PB</td>\n",
              "      <td>Tarn Taran</td>\n",
              "      <td>143422</td>\n",
              "      <td>None</td>\n",
              "      <td>106.204.196.186</td>\n",
              "      <td>English</td>\n",
              "      <td>1624366238085-1735536912773800065</td>\n",
              "      <td>652f454e-ae7e-448c-89af-46753075c7d0</td>\n",
              "      <td>vivo-vivo 1714</td>\n",
              "      <td>phone</td>\n",
              "      <td>android</td>\n",
              "      <td>7</td>\n",
              "      <td>1.7.1</td>\n",
              "      <td>v5.3.0</td>\n",
              "      <td>com.naviapp</td>\n",
              "      <td>Navi - Instant Personal and Home Loans</td>\n",
              "      <td>False</td>\n",
              "      <td>7d</td>\n",
              "      <td>id_matching</td>\n",
              "      <td>50:30.0</td>\n",
              "      <td>vivo::vivo 1714</td>\n",
              "      <td>ba63e6e9se860se1cfb7c9b8kf0046n00e996e9</td>\n",
              "      <td>http://www.hdm3.in/ti.php?hid=ba63e6e9se860se1...</td>\n",
              "      <td>get</td>\n",
              "    </tr>\n",
              "  </tbody>\n",
              "</table>\n",
              "</div>"
            ],
            "text/plain": [
              "  Attributed Touch Type  ... Postback Method\n",
              "0                 click  ...             get\n",
              "1                 click  ...             get\n",
              "2                 click  ...             get\n",
              "3                 click  ...             get\n",
              "4                 click  ...             get\n",
              "\n",
              "[5 rows x 37 columns]"
            ]
          },
          "metadata": {
            "tags": []
          },
          "execution_count": 338
        }
      ]
    },
    {
      "cell_type": "code",
      "metadata": {
        "colab": {
          "base_uri": "https://localhost:8080/"
        },
        "id": "7lCobeSCQbYE",
        "outputId": "4e816487-4759-4818-83ab-d6eee8755e63"
      },
      "source": [
        "Navi_install['Device Download Time']"
      ],
      "execution_count": 339,
      "outputs": [
        {
          "output_type": "execute_result",
          "data": {
            "text/plain": [
              "0        17:48.0\n",
              "1        02:15.0\n",
              "2        38:04.0\n",
              "3        51:32.0\n",
              "4        50:30.0\n",
              "          ...   \n",
              "32288    16:01.0\n",
              "32289    15:57.0\n",
              "32290    15:55.0\n",
              "32291    15:51.0\n",
              "32292    15:51.0\n",
              "Name: Device Download Time, Length: 32293, dtype: object"
            ]
          },
          "metadata": {
            "tags": []
          },
          "execution_count": 339
        }
      ]
    },
    {
      "cell_type": "markdown",
      "metadata": {
        "id": "EgmKTgiT7sl6"
      },
      "source": [
        "IMPORTING THE POSTBACK DATASET IN THE DATAFRAME AS POSTBOX"
      ]
    },
    {
      "cell_type": "code",
      "metadata": {
        "id": "T8Yzoehnujn5"
      },
      "source": [
        "postbox=pd.read_csv(\"/content/Navi - Postback.csv\")"
      ],
      "execution_count": 282,
      "outputs": []
    },
    {
      "cell_type": "code",
      "metadata": {
        "colab": {
          "base_uri": "https://localhost:8080/",
          "height": 675
        },
        "id": "lzvOslUkus6y",
        "outputId": "f3e0a2b2-fcd6-434d-b19c-05292e24ef60"
      },
      "source": [
        "postbox.head()"
      ],
      "execution_count": 283,
      "outputs": [
        {
          "output_type": "execute_result",
          "data": {
            "text/html": [
              "<div>\n",
              "<style scoped>\n",
              "    .dataframe tbody tr th:only-of-type {\n",
              "        vertical-align: middle;\n",
              "    }\n",
              "\n",
              "    .dataframe tbody tr th {\n",
              "        vertical-align: top;\n",
              "    }\n",
              "\n",
              "    .dataframe thead th {\n",
              "        text-align: right;\n",
              "    }\n",
              "</style>\n",
              "<table border=\"1\" class=\"dataframe\">\n",
              "  <thead>\n",
              "    <tr style=\"text-align: right;\">\n",
              "      <th></th>\n",
              "      <th>Attributed Touch Type</th>\n",
              "      <th>Attributed Touch Time</th>\n",
              "      <th>Install Time</th>\n",
              "      <th>Event Time</th>\n",
              "      <th>Event Name</th>\n",
              "      <th>Event Value</th>\n",
              "      <th>Event Revenue</th>\n",
              "      <th>Event Revenue Currency</th>\n",
              "      <th>Event Revenue USD</th>\n",
              "      <th>Cost Model</th>\n",
              "      <th>Cost Value</th>\n",
              "      <th>Cost Currency</th>\n",
              "      <th>Event Source</th>\n",
              "      <th>Partner</th>\n",
              "      <th>Media Source</th>\n",
              "      <th>Channel</th>\n",
              "      <th>Campaign</th>\n",
              "      <th>Campaign ID</th>\n",
              "      <th>Adset</th>\n",
              "      <th>Adset ID</th>\n",
              "      <th>Ad</th>\n",
              "      <th>Ad ID</th>\n",
              "      <th>Ad Type</th>\n",
              "      <th>Site ID</th>\n",
              "      <th>Sub Site ID</th>\n",
              "      <th>Region</th>\n",
              "      <th>Country Code</th>\n",
              "      <th>State</th>\n",
              "      <th>City</th>\n",
              "      <th>Postal Code</th>\n",
              "      <th>DMA</th>\n",
              "      <th>IP</th>\n",
              "      <th>Operator</th>\n",
              "      <th>Carrier</th>\n",
              "      <th>Language</th>\n",
              "      <th>AppsFlyer ID</th>\n",
              "      <th>Customer User ID</th>\n",
              "      <th>Android ID</th>\n",
              "      <th>Advertising ID</th>\n",
              "      <th>IMEI</th>\n",
              "      <th>IDFA</th>\n",
              "      <th>IDFV</th>\n",
              "      <th>Device Type</th>\n",
              "      <th>Device Category</th>\n",
              "      <th>Platform</th>\n",
              "      <th>OS Version</th>\n",
              "      <th>App Version</th>\n",
              "      <th>SDK Version</th>\n",
              "      <th>App ID</th>\n",
              "      <th>App Name</th>\n",
              "      <th>Is Retargeting</th>\n",
              "      <th>Retargeting Conversion Type</th>\n",
              "      <th>Is Primary Attribution</th>\n",
              "      <th>Attribution Lookback</th>\n",
              "      <th>Reengagement Window</th>\n",
              "      <th>Match Type</th>\n",
              "      <th>User Agent</th>\n",
              "      <th>HTTP Referrer</th>\n",
              "      <th>Original URL</th>\n",
              "      <th>Blocked Reason</th>\n",
              "      <th>Blocked Reason Value</th>\n",
              "      <th>Blocked Reason Rule</th>\n",
              "      <th>Blocked Sub Reason</th>\n",
              "      <th>Attributed Touch Hour</th>\n",
              "      <th>Install Hour</th>\n",
              "      <th>Event Hour</th>\n",
              "      <th>Rejected Reason</th>\n",
              "      <th>Unique Click ID</th>\n",
              "      <th>Postback Url</th>\n",
              "      <th>Postback Method</th>\n",
              "      <th>Postback Http Response Code</th>\n",
              "      <th>Postback Error Message</th>\n",
              "      <th>Postback Retry</th>\n",
              "    </tr>\n",
              "  </thead>\n",
              "  <tbody>\n",
              "    <tr>\n",
              "      <th>0</th>\n",
              "      <td>click</td>\n",
              "      <td>21/06/21 4:46</td>\n",
              "      <td>22/06/21 12:33</td>\n",
              "      <td>22/06/21 12:36</td>\n",
              "      <td>loan_approved_screen</td>\n",
              "      <td>NaN</td>\n",
              "      <td>NaN</td>\n",
              "      <td>NaN</td>\n",
              "      <td>NaN</td>\n",
              "      <td>NaN</td>\n",
              "      <td>NaN</td>\n",
              "      <td>NaN</td>\n",
              "      <td>SDK</td>\n",
              "      <td>iperformancemed</td>\n",
              "      <td>NaN</td>\n",
              "      <td>NaN</td>\n",
              "      <td>{campaign}</td>\n",
              "      <td>{campaign_ID}</td>\n",
              "      <td>NaN</td>\n",
              "      <td>NaN</td>\n",
              "      <td>NaN</td>\n",
              "      <td>NaN</td>\n",
              "      <td>NaN</td>\n",
              "      <td>1a3c1e25</td>\n",
              "      <td>9710145f_1404_49_2_50975</td>\n",
              "      <td>AS</td>\n",
              "      <td>IN</td>\n",
              "      <td>TG</td>\n",
              "      <td>Hyderabad</td>\n",
              "      <td>500085</td>\n",
              "      <td>356006</td>\n",
              "      <td>157.48.224.42</td>\n",
              "      <td>Jio 4G</td>\n",
              "      <td>Jio 4G</td>\n",
              "      <td>English</td>\n",
              "      <td>1624365220837-7345442945704353160</td>\n",
              "      <td>4d890200-4a90-4b85-b822-fb32a6cd46ef</td>\n",
              "      <td>NaN</td>\n",
              "      <td>9051a916-e5b3-460c-85e8-ca61c1f70f62</td>\n",
              "      <td>NaN</td>\n",
              "      <td>NaN</td>\n",
              "      <td>NaN</td>\n",
              "      <td>HONOR-LLD-AL10</td>\n",
              "      <td>phone</td>\n",
              "      <td>android</td>\n",
              "      <td>9</td>\n",
              "      <td>1.7.1</td>\n",
              "      <td>v5.3.0</td>\n",
              "      <td>com.naviapp</td>\n",
              "      <td>Navi - Instant Personal and Home Loans</td>\n",
              "      <td>False</td>\n",
              "      <td>NaN</td>\n",
              "      <td>True</td>\n",
              "      <td>7d</td>\n",
              "      <td>NaN</td>\n",
              "      <td>id_matching</td>\n",
              "      <td>NaN</td>\n",
              "      <td>NaN</td>\n",
              "      <td>NaN</td>\n",
              "      <td>NaN</td>\n",
              "      <td>NaN</td>\n",
              "      <td>NaN</td>\n",
              "      <td>NaN</td>\n",
              "      <td>NaN</td>\n",
              "      <td>NaN</td>\n",
              "      <td>NaN</td>\n",
              "      <td>NaN</td>\n",
              "      <td>20f797b1ne482se1cfb7c947hf02c4h24972c17</td>\n",
              "      <td>http://hdm3.in/et.php?hid=20f797b1ne482se1cfb7...</td>\n",
              "      <td>get</td>\n",
              "      <td>503.0</td>\n",
              "      <td>NaN</td>\n",
              "      <td>NaN</td>\n",
              "    </tr>\n",
              "    <tr>\n",
              "      <th>1</th>\n",
              "      <td>click</td>\n",
              "      <td>21/06/21 5:25</td>\n",
              "      <td>22/06/21 9:58</td>\n",
              "      <td>22/06/21 10:04</td>\n",
              "      <td>loan_approved_screen</td>\n",
              "      <td>NaN</td>\n",
              "      <td>NaN</td>\n",
              "      <td>NaN</td>\n",
              "      <td>NaN</td>\n",
              "      <td>NaN</td>\n",
              "      <td>NaN</td>\n",
              "      <td>NaN</td>\n",
              "      <td>SDK</td>\n",
              "      <td>iperformancemed</td>\n",
              "      <td>NaN</td>\n",
              "      <td>NaN</td>\n",
              "      <td>{campaign}</td>\n",
              "      <td>{campaign_ID}</td>\n",
              "      <td>NaN</td>\n",
              "      <td>NaN</td>\n",
              "      <td>NaN</td>\n",
              "      <td>NaN</td>\n",
              "      <td>NaN</td>\n",
              "      <td>1a3c1e25</td>\n",
              "      <td>3137b1df_1404_49_3_10622</td>\n",
              "      <td>AS</td>\n",
              "      <td>IN</td>\n",
              "      <td>MH</td>\n",
              "      <td>Satara</td>\n",
              "      <td>412801</td>\n",
              "      <td>356005</td>\n",
              "      <td>106.210.172.14</td>\n",
              "      <td>airtel</td>\n",
              "      <td>airtel</td>\n",
              "      <td>English</td>\n",
              "      <td>1624355938952-7452213414832445684</td>\n",
              "      <td>2a05c9e6-39e3-4403-8aaf-e88029621c5d</td>\n",
              "      <td>NaN</td>\n",
              "      <td>dd72a067-1ba7-4704-87df-798321bd4104</td>\n",
              "      <td>NaN</td>\n",
              "      <td>NaN</td>\n",
              "      <td>NaN</td>\n",
              "      <td>vivo-vivo 1902</td>\n",
              "      <td>phone</td>\n",
              "      <td>android</td>\n",
              "      <td>9</td>\n",
              "      <td>1.6.2</td>\n",
              "      <td>v5.3.0</td>\n",
              "      <td>com.naviapp</td>\n",
              "      <td>Navi - Instant Personal and Home Loans</td>\n",
              "      <td>False</td>\n",
              "      <td>NaN</td>\n",
              "      <td>True</td>\n",
              "      <td>7d</td>\n",
              "      <td>NaN</td>\n",
              "      <td>id_matching</td>\n",
              "      <td>NaN</td>\n",
              "      <td>NaN</td>\n",
              "      <td>NaN</td>\n",
              "      <td>NaN</td>\n",
              "      <td>NaN</td>\n",
              "      <td>NaN</td>\n",
              "      <td>NaN</td>\n",
              "      <td>NaN</td>\n",
              "      <td>NaN</td>\n",
              "      <td>NaN</td>\n",
              "      <td>NaN</td>\n",
              "      <td>bfbfd4b0ve8e4he1cfb7c9f1nf0046ma8e2a161</td>\n",
              "      <td>http://hdm3.in/et.php?hid=bfbfd4b0ve8e4he1cfb7...</td>\n",
              "      <td>get</td>\n",
              "      <td>503.0</td>\n",
              "      <td>NaN</td>\n",
              "      <td>NaN</td>\n",
              "    </tr>\n",
              "    <tr>\n",
              "      <th>2</th>\n",
              "      <td>click</td>\n",
              "      <td>21/06/21 4:06</td>\n",
              "      <td>21/06/21 16:10</td>\n",
              "      <td>21/06/21 16:13</td>\n",
              "      <td>loan_approved_screen</td>\n",
              "      <td>NaN</td>\n",
              "      <td>NaN</td>\n",
              "      <td>NaN</td>\n",
              "      <td>NaN</td>\n",
              "      <td>NaN</td>\n",
              "      <td>NaN</td>\n",
              "      <td>NaN</td>\n",
              "      <td>SDK</td>\n",
              "      <td>iperformancemed</td>\n",
              "      <td>NaN</td>\n",
              "      <td>NaN</td>\n",
              "      <td>{campaign}</td>\n",
              "      <td>{campaign_ID}</td>\n",
              "      <td>NaN</td>\n",
              "      <td>NaN</td>\n",
              "      <td>NaN</td>\n",
              "      <td>NaN</td>\n",
              "      <td>NaN</td>\n",
              "      <td>3a96e05b</td>\n",
              "      <td>fc7003bb_238_15908342_dc3b2acc1523</td>\n",
              "      <td>AS</td>\n",
              "      <td>IN</td>\n",
              "      <td>TN</td>\n",
              "      <td>Kanchipuram</td>\n",
              "      <td>600091</td>\n",
              "      <td>356007</td>\n",
              "      <td>106.208.91.235</td>\n",
              "      <td>airtel</td>\n",
              "      <td>airtel</td>\n",
              "      <td>English</td>\n",
              "      <td>1624291821270-1580063944051598574</td>\n",
              "      <td>22599693-2b6b-4629-b2c4-df64b45e9b63</td>\n",
              "      <td>NaN</td>\n",
              "      <td>65238b59-652f-4e3b-9723-0699ee41132a</td>\n",
              "      <td>NaN</td>\n",
              "      <td>NaN</td>\n",
              "      <td>NaN</td>\n",
              "      <td>OnePlus-ONEPLUS A6000</td>\n",
              "      <td>phone</td>\n",
              "      <td>android</td>\n",
              "      <td>10</td>\n",
              "      <td>1.7.1</td>\n",
              "      <td>v5.3.0</td>\n",
              "      <td>com.naviapp</td>\n",
              "      <td>Navi - Instant Personal and Home Loans</td>\n",
              "      <td>False</td>\n",
              "      <td>NaN</td>\n",
              "      <td>True</td>\n",
              "      <td>7d</td>\n",
              "      <td>NaN</td>\n",
              "      <td>id_matching</td>\n",
              "      <td>NaN</td>\n",
              "      <td>NaN</td>\n",
              "      <td>NaN</td>\n",
              "      <td>NaN</td>\n",
              "      <td>NaN</td>\n",
              "      <td>NaN</td>\n",
              "      <td>NaN</td>\n",
              "      <td>NaN</td>\n",
              "      <td>NaN</td>\n",
              "      <td>NaN</td>\n",
              "      <td>NaN</td>\n",
              "      <td>bd0debacne860re1cfb7c9b7jf0046o68041085</td>\n",
              "      <td>http://hdm3.in/et.php?hid=bd0debacne860re1cfb7...</td>\n",
              "      <td>get</td>\n",
              "      <td>200.0</td>\n",
              "      <td>NaN</td>\n",
              "      <td>NaN</td>\n",
              "    </tr>\n",
              "    <tr>\n",
              "      <th>3</th>\n",
              "      <td>click</td>\n",
              "      <td>21/06/21 1:21</td>\n",
              "      <td>21/06/21 10:51</td>\n",
              "      <td>21/06/21 11:01</td>\n",
              "      <td>loan_approved_screen</td>\n",
              "      <td>NaN</td>\n",
              "      <td>NaN</td>\n",
              "      <td>NaN</td>\n",
              "      <td>NaN</td>\n",
              "      <td>NaN</td>\n",
              "      <td>NaN</td>\n",
              "      <td>NaN</td>\n",
              "      <td>SDK</td>\n",
              "      <td>iperformancemed</td>\n",
              "      <td>NaN</td>\n",
              "      <td>NaN</td>\n",
              "      <td>{campaign}</td>\n",
              "      <td>{campaign_ID}</td>\n",
              "      <td>NaN</td>\n",
              "      <td>NaN</td>\n",
              "      <td>NaN</td>\n",
              "      <td>NaN</td>\n",
              "      <td>NaN</td>\n",
              "      <td>3a96e05b</td>\n",
              "      <td>fc7003bb_96_4</td>\n",
              "      <td>AS</td>\n",
              "      <td>IN</td>\n",
              "      <td>GJ</td>\n",
              "      <td>Botad</td>\n",
              "      <td>382443</td>\n",
              "      <td>356008</td>\n",
              "      <td>49.34.252.248</td>\n",
              "      <td>Jio 4G</td>\n",
              "      <td>Jio 4G</td>\n",
              "      <td>English</td>\n",
              "      <td>1624272657509-4512733258571377777</td>\n",
              "      <td>83a0b3a4-470c-4369-8b70-2fe020f6b7a9</td>\n",
              "      <td>NaN</td>\n",
              "      <td>9bcb432e-cd06-4454-8da2-136456cdc511</td>\n",
              "      <td>NaN</td>\n",
              "      <td>NaN</td>\n",
              "      <td>NaN</td>\n",
              "      <td>vivo-vivo 1713</td>\n",
              "      <td>phone</td>\n",
              "      <td>android</td>\n",
              "      <td>7</td>\n",
              "      <td>1.7.1</td>\n",
              "      <td>v5.3.0</td>\n",
              "      <td>com.naviapp</td>\n",
              "      <td>Navi - Instant Personal and Home Loans</td>\n",
              "      <td>False</td>\n",
              "      <td>NaN</td>\n",
              "      <td>True</td>\n",
              "      <td>7d</td>\n",
              "      <td>NaN</td>\n",
              "      <td>id_matching</td>\n",
              "      <td>NaN</td>\n",
              "      <td>NaN</td>\n",
              "      <td>NaN</td>\n",
              "      <td>NaN</td>\n",
              "      <td>NaN</td>\n",
              "      <td>NaN</td>\n",
              "      <td>NaN</td>\n",
              "      <td>NaN</td>\n",
              "      <td>NaN</td>\n",
              "      <td>NaN</td>\n",
              "      <td>NaN</td>\n",
              "      <td>01478e69ke860le1cfb7c83aqf0046rc41a55a4</td>\n",
              "      <td>http://hdm3.in/et.php?hid=01478e69ke860le1cfb7...</td>\n",
              "      <td>get</td>\n",
              "      <td>200.0</td>\n",
              "      <td>NaN</td>\n",
              "      <td>NaN</td>\n",
              "    </tr>\n",
              "    <tr>\n",
              "      <th>4</th>\n",
              "      <td>click</td>\n",
              "      <td>18/06/21 3:49</td>\n",
              "      <td>19/06/21 5:44</td>\n",
              "      <td>19/06/21 5:47</td>\n",
              "      <td>loan_approved_screen</td>\n",
              "      <td>NaN</td>\n",
              "      <td>NaN</td>\n",
              "      <td>NaN</td>\n",
              "      <td>NaN</td>\n",
              "      <td>NaN</td>\n",
              "      <td>NaN</td>\n",
              "      <td>NaN</td>\n",
              "      <td>SDK</td>\n",
              "      <td>iperformancemed</td>\n",
              "      <td>NaN</td>\n",
              "      <td>NaN</td>\n",
              "      <td>{campaign}</td>\n",
              "      <td>{campaign_ID}</td>\n",
              "      <td>NaN</td>\n",
              "      <td>NaN</td>\n",
              "      <td>NaN</td>\n",
              "      <td>NaN</td>\n",
              "      <td>NaN</td>\n",
              "      <td>c8652e6d</td>\n",
              "      <td>cdede8f5_3_u835rzfthuzsf33</td>\n",
              "      <td>AS</td>\n",
              "      <td>IN</td>\n",
              "      <td>DL</td>\n",
              "      <td>Delhi</td>\n",
              "      <td>110020</td>\n",
              "      <td>356001</td>\n",
              "      <td>122.176.135.123</td>\n",
              "      <td>airtel</td>\n",
              "      <td>airtel</td>\n",
              "      <td>English</td>\n",
              "      <td>1624081464139-5752374323810258437</td>\n",
              "      <td>b5e18a56-5173-4eeb-a304-279d2a916a01</td>\n",
              "      <td>NaN</td>\n",
              "      <td>713c490e-a369-4934-9818-5f60bff7eaf6</td>\n",
              "      <td>NaN</td>\n",
              "      <td>NaN</td>\n",
              "      <td>NaN</td>\n",
              "      <td>Nokia-Nokia 7.1</td>\n",
              "      <td>phone</td>\n",
              "      <td>android</td>\n",
              "      <td>10</td>\n",
              "      <td>1.7.1</td>\n",
              "      <td>v5.3.0</td>\n",
              "      <td>com.naviapp</td>\n",
              "      <td>Navi - Instant Personal and Home Loans</td>\n",
              "      <td>False</td>\n",
              "      <td>NaN</td>\n",
              "      <td>True</td>\n",
              "      <td>7d</td>\n",
              "      <td>NaN</td>\n",
              "      <td>id_matching</td>\n",
              "      <td>NaN</td>\n",
              "      <td>NaN</td>\n",
              "      <td>NaN</td>\n",
              "      <td>NaN</td>\n",
              "      <td>NaN</td>\n",
              "      <td>NaN</td>\n",
              "      <td>NaN</td>\n",
              "      <td>NaN</td>\n",
              "      <td>NaN</td>\n",
              "      <td>NaN</td>\n",
              "      <td>NaN</td>\n",
              "      <td>dd56dc37ye489qe1cfbb832buf02c4q8b0d245a</td>\n",
              "      <td>http://hdm3.in/et.php?hid=dd56dc37ye489qe1cfbb...</td>\n",
              "      <td>get</td>\n",
              "      <td>503.0</td>\n",
              "      <td>NaN</td>\n",
              "      <td>NaN</td>\n",
              "    </tr>\n",
              "  </tbody>\n",
              "</table>\n",
              "</div>"
            ],
            "text/plain": [
              "  Attributed Touch Type  ... Postback Retry\n",
              "0                 click  ...            NaN\n",
              "1                 click  ...            NaN\n",
              "2                 click  ...            NaN\n",
              "3                 click  ...            NaN\n",
              "4                 click  ...            NaN\n",
              "\n",
              "[5 rows x 73 columns]"
            ]
          },
          "metadata": {
            "tags": []
          },
          "execution_count": 283
        }
      ]
    },
    {
      "cell_type": "code",
      "metadata": {
        "colab": {
          "base_uri": "https://localhost:8080/"
        },
        "id": "463XBnhAuyIg",
        "outputId": "223015c4-cca8-4bb6-f9d1-2f61ea1021b8"
      },
      "source": [
        "postbox.isnull().sum().sum()"
      ],
      "execution_count": 286,
      "outputs": [
        {
          "output_type": "execute_result",
          "data": {
            "text/plain": [
              "1518"
            ]
          },
          "metadata": {
            "tags": []
          },
          "execution_count": 286
        }
      ]
    },
    {
      "cell_type": "markdown",
      "metadata": {
        "id": "HIT-A3Uz73KW"
      },
      "source": [
        "DROPPING THE NULL VALUES IN THE ROW VALUES WITH RESPECT TO COLUMN LABEL"
      ]
    },
    {
      "cell_type": "code",
      "metadata": {
        "id": "PQ3fmQ3eu7Pn"
      },
      "source": [
        "postbox=postbox.dropna(axis=1)"
      ],
      "execution_count": 287,
      "outputs": []
    },
    {
      "cell_type": "code",
      "metadata": {
        "colab": {
          "base_uri": "https://localhost:8080/",
          "height": 642
        },
        "id": "vx2kNFIQvGXn",
        "outputId": "923d3aec-3531-4a1c-83e3-6180631f877e"
      },
      "source": [
        "postbox.head()"
      ],
      "execution_count": 288,
      "outputs": [
        {
          "output_type": "execute_result",
          "data": {
            "text/html": [
              "<div>\n",
              "<style scoped>\n",
              "    .dataframe tbody tr th:only-of-type {\n",
              "        vertical-align: middle;\n",
              "    }\n",
              "\n",
              "    .dataframe tbody tr th {\n",
              "        vertical-align: top;\n",
              "    }\n",
              "\n",
              "    .dataframe thead th {\n",
              "        text-align: right;\n",
              "    }\n",
              "</style>\n",
              "<table border=\"1\" class=\"dataframe\">\n",
              "  <thead>\n",
              "    <tr style=\"text-align: right;\">\n",
              "      <th></th>\n",
              "      <th>Attributed Touch Type</th>\n",
              "      <th>Attributed Touch Time</th>\n",
              "      <th>Install Time</th>\n",
              "      <th>Event Time</th>\n",
              "      <th>Event Name</th>\n",
              "      <th>Event Source</th>\n",
              "      <th>Partner</th>\n",
              "      <th>Campaign</th>\n",
              "      <th>Campaign ID</th>\n",
              "      <th>Site ID</th>\n",
              "      <th>Sub Site ID</th>\n",
              "      <th>Region</th>\n",
              "      <th>Country Code</th>\n",
              "      <th>State</th>\n",
              "      <th>City</th>\n",
              "      <th>Postal Code</th>\n",
              "      <th>DMA</th>\n",
              "      <th>IP</th>\n",
              "      <th>Operator</th>\n",
              "      <th>Carrier</th>\n",
              "      <th>Language</th>\n",
              "      <th>AppsFlyer ID</th>\n",
              "      <th>Customer User ID</th>\n",
              "      <th>Advertising ID</th>\n",
              "      <th>Device Type</th>\n",
              "      <th>Device Category</th>\n",
              "      <th>Platform</th>\n",
              "      <th>OS Version</th>\n",
              "      <th>App Version</th>\n",
              "      <th>SDK Version</th>\n",
              "      <th>App ID</th>\n",
              "      <th>App Name</th>\n",
              "      <th>Is Retargeting</th>\n",
              "      <th>Is Primary Attribution</th>\n",
              "      <th>Attribution Lookback</th>\n",
              "      <th>Match Type</th>\n",
              "      <th>Unique Click ID</th>\n",
              "      <th>Postback Url</th>\n",
              "      <th>Postback Method</th>\n",
              "    </tr>\n",
              "  </thead>\n",
              "  <tbody>\n",
              "    <tr>\n",
              "      <th>0</th>\n",
              "      <td>click</td>\n",
              "      <td>21/06/21 4:46</td>\n",
              "      <td>22/06/21 12:33</td>\n",
              "      <td>22/06/21 12:36</td>\n",
              "      <td>loan_approved_screen</td>\n",
              "      <td>SDK</td>\n",
              "      <td>iperformancemed</td>\n",
              "      <td>{campaign}</td>\n",
              "      <td>{campaign_ID}</td>\n",
              "      <td>1a3c1e25</td>\n",
              "      <td>9710145f_1404_49_2_50975</td>\n",
              "      <td>AS</td>\n",
              "      <td>IN</td>\n",
              "      <td>TG</td>\n",
              "      <td>Hyderabad</td>\n",
              "      <td>500085</td>\n",
              "      <td>356006</td>\n",
              "      <td>157.48.224.42</td>\n",
              "      <td>Jio 4G</td>\n",
              "      <td>Jio 4G</td>\n",
              "      <td>English</td>\n",
              "      <td>1624365220837-7345442945704353160</td>\n",
              "      <td>4d890200-4a90-4b85-b822-fb32a6cd46ef</td>\n",
              "      <td>9051a916-e5b3-460c-85e8-ca61c1f70f62</td>\n",
              "      <td>HONOR-LLD-AL10</td>\n",
              "      <td>phone</td>\n",
              "      <td>android</td>\n",
              "      <td>9</td>\n",
              "      <td>1.7.1</td>\n",
              "      <td>v5.3.0</td>\n",
              "      <td>com.naviapp</td>\n",
              "      <td>Navi - Instant Personal and Home Loans</td>\n",
              "      <td>False</td>\n",
              "      <td>True</td>\n",
              "      <td>7d</td>\n",
              "      <td>id_matching</td>\n",
              "      <td>20f797b1ne482se1cfb7c947hf02c4h24972c17</td>\n",
              "      <td>http://hdm3.in/et.php?hid=20f797b1ne482se1cfb7...</td>\n",
              "      <td>get</td>\n",
              "    </tr>\n",
              "    <tr>\n",
              "      <th>1</th>\n",
              "      <td>click</td>\n",
              "      <td>21/06/21 5:25</td>\n",
              "      <td>22/06/21 9:58</td>\n",
              "      <td>22/06/21 10:04</td>\n",
              "      <td>loan_approved_screen</td>\n",
              "      <td>SDK</td>\n",
              "      <td>iperformancemed</td>\n",
              "      <td>{campaign}</td>\n",
              "      <td>{campaign_ID}</td>\n",
              "      <td>1a3c1e25</td>\n",
              "      <td>3137b1df_1404_49_3_10622</td>\n",
              "      <td>AS</td>\n",
              "      <td>IN</td>\n",
              "      <td>MH</td>\n",
              "      <td>Satara</td>\n",
              "      <td>412801</td>\n",
              "      <td>356005</td>\n",
              "      <td>106.210.172.14</td>\n",
              "      <td>airtel</td>\n",
              "      <td>airtel</td>\n",
              "      <td>English</td>\n",
              "      <td>1624355938952-7452213414832445684</td>\n",
              "      <td>2a05c9e6-39e3-4403-8aaf-e88029621c5d</td>\n",
              "      <td>dd72a067-1ba7-4704-87df-798321bd4104</td>\n",
              "      <td>vivo-vivo 1902</td>\n",
              "      <td>phone</td>\n",
              "      <td>android</td>\n",
              "      <td>9</td>\n",
              "      <td>1.6.2</td>\n",
              "      <td>v5.3.0</td>\n",
              "      <td>com.naviapp</td>\n",
              "      <td>Navi - Instant Personal and Home Loans</td>\n",
              "      <td>False</td>\n",
              "      <td>True</td>\n",
              "      <td>7d</td>\n",
              "      <td>id_matching</td>\n",
              "      <td>bfbfd4b0ve8e4he1cfb7c9f1nf0046ma8e2a161</td>\n",
              "      <td>http://hdm3.in/et.php?hid=bfbfd4b0ve8e4he1cfb7...</td>\n",
              "      <td>get</td>\n",
              "    </tr>\n",
              "    <tr>\n",
              "      <th>2</th>\n",
              "      <td>click</td>\n",
              "      <td>21/06/21 4:06</td>\n",
              "      <td>21/06/21 16:10</td>\n",
              "      <td>21/06/21 16:13</td>\n",
              "      <td>loan_approved_screen</td>\n",
              "      <td>SDK</td>\n",
              "      <td>iperformancemed</td>\n",
              "      <td>{campaign}</td>\n",
              "      <td>{campaign_ID}</td>\n",
              "      <td>3a96e05b</td>\n",
              "      <td>fc7003bb_238_15908342_dc3b2acc1523</td>\n",
              "      <td>AS</td>\n",
              "      <td>IN</td>\n",
              "      <td>TN</td>\n",
              "      <td>Kanchipuram</td>\n",
              "      <td>600091</td>\n",
              "      <td>356007</td>\n",
              "      <td>106.208.91.235</td>\n",
              "      <td>airtel</td>\n",
              "      <td>airtel</td>\n",
              "      <td>English</td>\n",
              "      <td>1624291821270-1580063944051598574</td>\n",
              "      <td>22599693-2b6b-4629-b2c4-df64b45e9b63</td>\n",
              "      <td>65238b59-652f-4e3b-9723-0699ee41132a</td>\n",
              "      <td>OnePlus-ONEPLUS A6000</td>\n",
              "      <td>phone</td>\n",
              "      <td>android</td>\n",
              "      <td>10</td>\n",
              "      <td>1.7.1</td>\n",
              "      <td>v5.3.0</td>\n",
              "      <td>com.naviapp</td>\n",
              "      <td>Navi - Instant Personal and Home Loans</td>\n",
              "      <td>False</td>\n",
              "      <td>True</td>\n",
              "      <td>7d</td>\n",
              "      <td>id_matching</td>\n",
              "      <td>bd0debacne860re1cfb7c9b7jf0046o68041085</td>\n",
              "      <td>http://hdm3.in/et.php?hid=bd0debacne860re1cfb7...</td>\n",
              "      <td>get</td>\n",
              "    </tr>\n",
              "    <tr>\n",
              "      <th>3</th>\n",
              "      <td>click</td>\n",
              "      <td>21/06/21 1:21</td>\n",
              "      <td>21/06/21 10:51</td>\n",
              "      <td>21/06/21 11:01</td>\n",
              "      <td>loan_approved_screen</td>\n",
              "      <td>SDK</td>\n",
              "      <td>iperformancemed</td>\n",
              "      <td>{campaign}</td>\n",
              "      <td>{campaign_ID}</td>\n",
              "      <td>3a96e05b</td>\n",
              "      <td>fc7003bb_96_4</td>\n",
              "      <td>AS</td>\n",
              "      <td>IN</td>\n",
              "      <td>GJ</td>\n",
              "      <td>Botad</td>\n",
              "      <td>382443</td>\n",
              "      <td>356008</td>\n",
              "      <td>49.34.252.248</td>\n",
              "      <td>Jio 4G</td>\n",
              "      <td>Jio 4G</td>\n",
              "      <td>English</td>\n",
              "      <td>1624272657509-4512733258571377777</td>\n",
              "      <td>83a0b3a4-470c-4369-8b70-2fe020f6b7a9</td>\n",
              "      <td>9bcb432e-cd06-4454-8da2-136456cdc511</td>\n",
              "      <td>vivo-vivo 1713</td>\n",
              "      <td>phone</td>\n",
              "      <td>android</td>\n",
              "      <td>7</td>\n",
              "      <td>1.7.1</td>\n",
              "      <td>v5.3.0</td>\n",
              "      <td>com.naviapp</td>\n",
              "      <td>Navi - Instant Personal and Home Loans</td>\n",
              "      <td>False</td>\n",
              "      <td>True</td>\n",
              "      <td>7d</td>\n",
              "      <td>id_matching</td>\n",
              "      <td>01478e69ke860le1cfb7c83aqf0046rc41a55a4</td>\n",
              "      <td>http://hdm3.in/et.php?hid=01478e69ke860le1cfb7...</td>\n",
              "      <td>get</td>\n",
              "    </tr>\n",
              "    <tr>\n",
              "      <th>4</th>\n",
              "      <td>click</td>\n",
              "      <td>18/06/21 3:49</td>\n",
              "      <td>19/06/21 5:44</td>\n",
              "      <td>19/06/21 5:47</td>\n",
              "      <td>loan_approved_screen</td>\n",
              "      <td>SDK</td>\n",
              "      <td>iperformancemed</td>\n",
              "      <td>{campaign}</td>\n",
              "      <td>{campaign_ID}</td>\n",
              "      <td>c8652e6d</td>\n",
              "      <td>cdede8f5_3_u835rzfthuzsf33</td>\n",
              "      <td>AS</td>\n",
              "      <td>IN</td>\n",
              "      <td>DL</td>\n",
              "      <td>Delhi</td>\n",
              "      <td>110020</td>\n",
              "      <td>356001</td>\n",
              "      <td>122.176.135.123</td>\n",
              "      <td>airtel</td>\n",
              "      <td>airtel</td>\n",
              "      <td>English</td>\n",
              "      <td>1624081464139-5752374323810258437</td>\n",
              "      <td>b5e18a56-5173-4eeb-a304-279d2a916a01</td>\n",
              "      <td>713c490e-a369-4934-9818-5f60bff7eaf6</td>\n",
              "      <td>Nokia-Nokia 7.1</td>\n",
              "      <td>phone</td>\n",
              "      <td>android</td>\n",
              "      <td>10</td>\n",
              "      <td>1.7.1</td>\n",
              "      <td>v5.3.0</td>\n",
              "      <td>com.naviapp</td>\n",
              "      <td>Navi - Instant Personal and Home Loans</td>\n",
              "      <td>False</td>\n",
              "      <td>True</td>\n",
              "      <td>7d</td>\n",
              "      <td>id_matching</td>\n",
              "      <td>dd56dc37ye489qe1cfbb832buf02c4q8b0d245a</td>\n",
              "      <td>http://hdm3.in/et.php?hid=dd56dc37ye489qe1cfbb...</td>\n",
              "      <td>get</td>\n",
              "    </tr>\n",
              "  </tbody>\n",
              "</table>\n",
              "</div>"
            ],
            "text/plain": [
              "  Attributed Touch Type  ... Postback Method\n",
              "0                 click  ...             get\n",
              "1                 click  ...             get\n",
              "2                 click  ...             get\n",
              "3                 click  ...             get\n",
              "4                 click  ...             get\n",
              "\n",
              "[5 rows x 39 columns]"
            ]
          },
          "metadata": {
            "tags": []
          },
          "execution_count": 288
        }
      ]
    },
    {
      "cell_type": "code",
      "metadata": {
        "colab": {
          "base_uri": "https://localhost:8080/"
        },
        "id": "twuwIkmVvXRO",
        "outputId": "f96317a6-ba02-4d78-ae3a-1d496dd7c8fe"
      },
      "source": [
        "postbox.isnull().sum()"
      ],
      "execution_count": 289,
      "outputs": [
        {
          "output_type": "execute_result",
          "data": {
            "text/plain": [
              "Attributed Touch Type     0\n",
              "Attributed Touch Time     0\n",
              "Install Time              0\n",
              "Event Time                0\n",
              "Event Name                0\n",
              "Event Source              0\n",
              "Partner                   0\n",
              "Campaign                  0\n",
              "Campaign ID               0\n",
              "Site ID                   0\n",
              "Sub Site ID               0\n",
              "Region                    0\n",
              "Country Code              0\n",
              "State                     0\n",
              "City                      0\n",
              "Postal Code               0\n",
              "DMA                       0\n",
              "IP                        0\n",
              "Operator                  0\n",
              "Carrier                   0\n",
              "Language                  0\n",
              "AppsFlyer ID              0\n",
              "Customer User ID          0\n",
              "Advertising ID            0\n",
              "Device Type               0\n",
              "Device Category           0\n",
              "Platform                  0\n",
              "OS Version                0\n",
              "App Version               0\n",
              "SDK Version               0\n",
              "App ID                    0\n",
              "App Name                  0\n",
              "Is Retargeting            0\n",
              "Is Primary Attribution    0\n",
              "Attribution Lookback      0\n",
              "Match Type                0\n",
              "Unique Click ID           0\n",
              "Postback Url              0\n",
              "Postback Method           0\n",
              "dtype: int64"
            ]
          },
          "metadata": {
            "tags": []
          },
          "execution_count": 289
        }
      ]
    },
    {
      "cell_type": "code",
      "metadata": {
        "colab": {
          "base_uri": "https://localhost:8080/",
          "height": 290
        },
        "id": "cGWcW0YNvctv",
        "outputId": "b5c05f25-4acc-4eff-fcdb-e6b609cc72a0"
      },
      "source": [
        "postbox.describe()"
      ],
      "execution_count": 290,
      "outputs": [
        {
          "output_type": "execute_result",
          "data": {
            "text/html": [
              "<div>\n",
              "<style scoped>\n",
              "    .dataframe tbody tr th:only-of-type {\n",
              "        vertical-align: middle;\n",
              "    }\n",
              "\n",
              "    .dataframe tbody tr th {\n",
              "        vertical-align: top;\n",
              "    }\n",
              "\n",
              "    .dataframe thead th {\n",
              "        text-align: right;\n",
              "    }\n",
              "</style>\n",
              "<table border=\"1\" class=\"dataframe\">\n",
              "  <thead>\n",
              "    <tr style=\"text-align: right;\">\n",
              "      <th></th>\n",
              "      <th>Postal Code</th>\n",
              "    </tr>\n",
              "  </thead>\n",
              "  <tbody>\n",
              "    <tr>\n",
              "      <th>count</th>\n",
              "      <td>46.000000</td>\n",
              "    </tr>\n",
              "    <tr>\n",
              "      <th>mean</th>\n",
              "      <td>483382.586957</td>\n",
              "    </tr>\n",
              "    <tr>\n",
              "      <th>std</th>\n",
              "      <td>192608.299336</td>\n",
              "    </tr>\n",
              "    <tr>\n",
              "      <th>min</th>\n",
              "      <td>110006.000000</td>\n",
              "    </tr>\n",
              "    <tr>\n",
              "      <th>25%</th>\n",
              "      <td>400068.000000</td>\n",
              "    </tr>\n",
              "    <tr>\n",
              "      <th>50%</th>\n",
              "      <td>500063.500000</td>\n",
              "    </tr>\n",
              "    <tr>\n",
              "      <th>75%</th>\n",
              "      <td>596375.250000</td>\n",
              "    </tr>\n",
              "    <tr>\n",
              "      <th>max</th>\n",
              "      <td>835103.000000</td>\n",
              "    </tr>\n",
              "  </tbody>\n",
              "</table>\n",
              "</div>"
            ],
            "text/plain": [
              "         Postal Code\n",
              "count      46.000000\n",
              "mean   483382.586957\n",
              "std    192608.299336\n",
              "min    110006.000000\n",
              "25%    400068.000000\n",
              "50%    500063.500000\n",
              "75%    596375.250000\n",
              "max    835103.000000"
            ]
          },
          "metadata": {
            "tags": []
          },
          "execution_count": 290
        }
      ]
    },
    {
      "cell_type": "markdown",
      "metadata": {
        "id": "UdPo5rIg8DoJ"
      },
      "source": [
        "USING COUNTPLOT WE HAVE COMPARED THE ROW VALUES OF OPERATOR COLUMN AND IT SEEMS THAT MOST OF THEM ARE AIRTEL USER"
      ]
    },
    {
      "cell_type": "code",
      "metadata": {
        "colab": {
          "base_uri": "https://localhost:8080/",
          "height": 627
        },
        "id": "4gLSHxfxvgu9",
        "outputId": "f14f8d17-65ea-43d8-be82-54138ef69e60"
      },
      "source": [
        "sns.countplot(x='Operator',data=postbox)"
      ],
      "execution_count": 292,
      "outputs": [
        {
          "output_type": "execute_result",
          "data": {
            "text/plain": [
              "<matplotlib.axes._subplots.AxesSubplot at 0x7fdc18303e90>"
            ]
          },
          "metadata": {
            "tags": []
          },
          "execution_count": 292
        },
        {
          "output_type": "display_data",
          "data": {
            "image/png": "[encoded data removed]",
            "text/plain": [
              "<Figure size 1080x720 with 1 Axes>"
            ]
          },
          "metadata": {
            "tags": []
          }
        }
      ]
    },
    {
      "cell_type": "markdown",
      "metadata": {
        "id": "7YJP0lB791PE"
      },
      "source": [
        "USING COUNTPLOT WE HAVE ARRIVED THAT OS VERSION PREFERRED BY MOST OF THEM ARE FROM 10"
      ]
    },
    {
      "cell_type": "code",
      "metadata": {
        "colab": {
          "base_uri": "https://localhost:8080/",
          "height": 627
        },
        "id": "2DlKIScPwDRF",
        "outputId": "2b3b046e-4738-408a-df8b-70954d064564"
      },
      "source": [
        "sns.countplot(x='OS Version',data=postbox)"
      ],
      "execution_count": 293,
      "outputs": [
        {
          "output_type": "execute_result",
          "data": {
            "text/plain": [
              "<matplotlib.axes._subplots.AxesSubplot at 0x7fdc18235990>"
            ]
          },
          "metadata": {
            "tags": []
          },
          "execution_count": 293
        },
        {
          "output_type": "display_data",
          "data": {
            "image/png": "[encoded data removed]",
            "text/plain": [
              "<Figure size 1080x720 with 1 Axes>"
            ]
          },
          "metadata": {
            "tags": []
          }
        }
      ]
    },
    {
      "cell_type": "code",
      "metadata": {
        "colab": {
          "base_uri": "https://localhost:8080/",
          "height": 627
        },
        "id": "j0NYLexQwOIV",
        "outputId": "5b8c5a50-509c-424c-a3e4-47b5deba9b12"
      },
      "source": [
        "sns.countplot(x='App Version',data=postbox)"
      ],
      "execution_count": 294,
      "outputs": [
        {
          "output_type": "execute_result",
          "data": {
            "text/plain": [
              "<matplotlib.axes._subplots.AxesSubplot at 0x7fdc227a0d90>"
            ]
          },
          "metadata": {
            "tags": []
          },
          "execution_count": 294
        },
        {
          "output_type": "display_data",
          "data": {
            "image/png": "[encoded data removed]",
            "text/plain": [
              "<Figure size 1080x720 with 1 Axes>"
            ]
          },
          "metadata": {
            "tags": []
          }
        }
      ]
    },
    {
      "cell_type": "code",
      "metadata": {
        "colab": {
          "base_uri": "https://localhost:8080/",
          "height": 627
        },
        "id": "gb8291O7wu2c",
        "outputId": "7f15509e-8baf-424e-8d6b-c193eaea2798"
      },
      "source": [
        "sns.countplot(x='State',data=postbox)"
      ],
      "execution_count": 295,
      "outputs": [
        {
          "output_type": "execute_result",
          "data": {
            "text/plain": [
              "<matplotlib.axes._subplots.AxesSubplot at 0x7fdc18221510>"
            ]
          },
          "metadata": {
            "tags": []
          },
          "execution_count": 295
        },
        {
          "output_type": "display_data",
          "data": {
            "image/png": "[encoded data removed]",
            "text/plain": [
              "<Figure size 1080x720 with 1 Axes>"
            ]
          },
          "metadata": {
            "tags": []
          }
        }
      ]
    },
    {
      "cell_type": "code",
      "metadata": {
        "colab": {
          "base_uri": "https://localhost:8080/",
          "height": 618
        },
        "id": "QPPoF3Vhw-z7",
        "outputId": "5938c3b2-902b-445c-d251-7b7a80ab5f16"
      },
      "source": [
        "sns.heatmap(postbox.corr(), annot=True)"
      ],
      "execution_count": 296,
      "outputs": [
        {
          "output_type": "execute_result",
          "data": {
            "text/plain": [
              "<matplotlib.axes._subplots.AxesSubplot at 0x7fdc187cd210>"
            ]
          },
          "metadata": {
            "tags": []
          },
          "execution_count": 296
        },
        {
          "output_type": "display_data",
          "data": {
            "image/png": "[encoded data removed]",
            "text/plain": [
              "<Figure size 1080x720 with 2 Axes>"
            ]
          },
          "metadata": {
            "tags": []
          }
        }
      ]
    },
    {
      "cell_type": "markdown",
      "metadata": {
        "id": "3JcZ6xZz-NYe"
      },
      "source": [
        "WE HAVE DISPLAYED A PAIRPLOT TO CHECK WHETHER THE VALUES OF DIFFERENT COLUMN LABELS HAVE SOME SORT OF RELATION BETWEEN THEM"
      ]
    },
    {
      "cell_type": "code",
      "metadata": {
        "colab": {
          "base_uri": "https://localhost:8080/",
          "height": 628
        },
        "id": "l4ty2R-dxQAB",
        "outputId": "90f8132b-2e57-4642-9937-aa880e5e9684"
      },
      "source": [
        "sns.pairplot(postbox)"
      ],
      "execution_count": 298,
      "outputs": [
        {
          "output_type": "stream",
          "text": [
            "<string>:6: RuntimeWarning: Converting input from bool to <class 'numpy.uint8'> for compatibility.\n",
            "<string>:6: RuntimeWarning: Converting input from bool to <class 'numpy.uint8'> for compatibility.\n",
            "<string>:6: RuntimeWarning: Converting input from bool to <class 'numpy.uint8'> for compatibility.\n",
            "<string>:6: RuntimeWarning: Converting input from bool to <class 'numpy.uint8'> for compatibility.\n"
          ],
          "name": "stderr"
        },
        {
          "output_type": "execute_result",
          "data": {
            "text/plain": [
              "<seaborn.axisgrid.PairGrid at 0x7fdc1879d390>"
            ]
          },
          "metadata": {
            "tags": []
          },
          "execution_count": 298
        },
        {
          "output_type": "display_data",
          "data": {
            "image/png": "[encoded data removed]",
            "text/plain": [
              "<Figure size 540x540 with 12 Axes>"
            ]
          },
          "metadata": {
            "tags": []
          }
        }
      ]
    },
    {
      "cell_type": "markdown",
      "metadata": {
        "id": "yvRoLqv7-bTh"
      },
      "source": [
        "IN THE DATASET MOST OF THE USERS ARE FROM HYDERABAD AND BANGALORE"
      ]
    },
    {
      "cell_type": "code",
      "metadata": {
        "colab": {
          "base_uri": "https://localhost:8080/",
          "height": 627
        },
        "id": "Xo9FRNC3xma3",
        "outputId": "919199b4-c47c-4aa6-a3f3-886d0ef3359f"
      },
      "source": [
        "sns.countplot(y='City',data=postbox)"
      ],
      "execution_count": 301,
      "outputs": [
        {
          "output_type": "execute_result",
          "data": {
            "text/plain": [
              "<matplotlib.axes._subplots.AxesSubplot at 0x7fdc3d5abd10>"
            ]
          },
          "metadata": {
            "tags": []
          },
          "execution_count": 301
        },
        {
          "output_type": "display_data",
          "data": {
            "image/png": "[encoded data removed]",
            "text/plain": [
              "<Figure size 1080x720 with 1 Axes>"
            ]
          },
          "metadata": {
            "tags": []
          }
        }
      ]
    },
    {
      "cell_type": "markdown",
      "metadata": {
        "id": "EvZ61klO-ocA"
      },
      "source": [
        "THE MAXIMUM NUMBER OF USERS USED SAMSUNG-SM-M307F FOR THE REGISTRATION \n",
        "\n",
        "---\n",
        "\n"
      ]
    },
    {
      "cell_type": "code",
      "metadata": {
        "colab": {
          "base_uri": "https://localhost:8080/",
          "height": 627
        },
        "id": "nc-12ayRyWL8",
        "outputId": "cd27f8dc-3964-4497-cb24-d19fa281be23"
      },
      "source": [
        "sns.countplot(y='Device Type',data=postbox)"
      ],
      "execution_count": 303,
      "outputs": [
        {
          "output_type": "execute_result",
          "data": {
            "text/plain": [
              "<matplotlib.axes._subplots.AxesSubplot at 0x7fdc43a05c10>"
            ]
          },
          "metadata": {
            "tags": []
          },
          "execution_count": 303
        },
        {
          "output_type": "display_data",
          "data": {
            "image/png": "[encoded data removed]",
            "text/plain": [
              "<Figure size 1080x720 with 1 Axes>"
            ]
          },
          "metadata": {
            "tags": []
          }
        }
      ]
    }
  ]
}